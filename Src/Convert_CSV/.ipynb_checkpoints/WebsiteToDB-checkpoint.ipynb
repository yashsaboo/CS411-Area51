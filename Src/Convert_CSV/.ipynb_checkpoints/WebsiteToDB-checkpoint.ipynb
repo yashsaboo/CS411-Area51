{
 "cells": [
  {
   "cell_type": "code",
   "execution_count": null,
   "metadata": {},
   "outputs": [],
   "source": [
    "\"\"\"\n",
    "Created on Thu Apr 9\n",
    "@author: yashsaboo\n",
    "\"\"\""
   ]
  },
  {
   "cell_type": "markdown",
   "metadata": {},
   "source": [
    "1. Check for sanity\n",
    "2. Convert the msg into three csv columns\n",
    "\n",
    "    i. find crimetypeid\n",
    "        a. Check if this crime is present or not. If not present, then add it to crimetype (first insert)\n",
    "    \n",
    "    ii. Find blockid\n",
    "        a. Call insert on crime\n",
    "    \n",
    "    iii. Call insert on happensAt"
   ]
  },
  {
   "cell_type": "markdown",
   "metadata": {},
   "source": [
    "# Input/Output Format"
   ]
  },
  {
   "cell_type": "markdown",
   "metadata": {},
   "source": [
    "## Insert Format"
   ]
  },
  {
   "cell_type": "markdown",
   "metadata": {},
   "source": [
    "**Function Name**:  insertNewData(msg)\n",
    "\n",
    "**Input**:          A dictionary variable with the following fields: incidentID, reportedAt, occuredAt, disposition, type, genLocation, lat, lon\n",
    "\n",
    "                For instance,\n",
    "                            {'incidentID': 'II1300563',\n",
    "                             'reportedAt': '20135-1-1 11:39:00',\n",
    "                             'occuredAt': '2013-1-1 11:39:00',\n",
    "                             'disposition': 'ARREST',\n",
    "                             'type': 'POSSESSION OF CANNABIS test5',\n",
    "                             'genLocation': 'CIRCLE K',\n",
    "                             'lat': '40.1081487',\n",
    "                             'lon': '-88.2293074'}\n",
    "                Remember, all of them should of string type and have the exact format for dates and times.\n",
    "        \n",
    "**Output**:         True/False whether the new data was inserted successfully or not\n",
    "\n",
    "**Example**: \n",
    "\n",
    "        msg = {}\n",
    "        msg[\"incidentID\"] = \"II1300563\"\n",
    "        msg[\"reportedAt\"] = '2013-1-1 11:39:00'\n",
    "        msg[\"occuredAt\"] = '2013-1-1 11:39:00'\n",
    "        msg[\"disposition\"] = \"ARREST\"\n",
    "        msg[\"type\"] = \"POSSESSION OF CANNABIS test5\"\n",
    "        msg[\"genLocation\"] = \"CIRCLE K\"\n",
    "        msg[\"lat\"] = \"40.1081487\"\n",
    "        msg[\"lon\"] = \"-88.2293074\"\n",
    "        insertNewData(msg)"
   ]
  },
  {
   "cell_type": "markdown",
   "metadata": {},
   "source": [
    "## Delete Format"
   ]
  },
  {
   "cell_type": "markdown",
   "metadata": {},
   "source": [
    "**Function Name**: deleteData(columnNameOfDeleteRecord, valueOfDeleteRecord)\n",
    "    \n",
    "**Input**: 2 String values - columnNameOfDeleteRecord, valueOfDeleteRecord                \n",
    "    \n",
    "**Output**: True/False whether the new data was inserted successfully or not\n",
    "    \n",
    "**Example**: \n",
    "\n",
    "            columnNameOfDeleteRecord = \"type\"\n",
    "            valueOfDeleteRecord = \"RAPE\"\n",
    "            deleteData(columnNameOfDeleteRecord, valueOfDeleteRecord)"
   ]
  },
  {
   "cell_type": "markdown",
   "metadata": {},
   "source": [
    "# Update Format"
   ]
  },
  {
   "cell_type": "markdown",
   "metadata": {},
   "source": [
    "#### Please go to the update section"
   ]
  },
  {
   "cell_type": "markdown",
   "metadata": {},
   "source": [
    "# The Code"
   ]
  },
  {
   "cell_type": "code",
   "execution_count": 1,
   "metadata": {},
   "outputs": [],
   "source": [
    "import MySQLdb as mdb\n",
    "import DatabaseHelperFunctions as dbhelp\n",
    "import numpy as np"
   ]
  },
  {
   "cell_type": "code",
   "execution_count": 2,
   "metadata": {},
   "outputs": [],
   "source": [
    "csvFilePath = r\"C:\\Users\\Yash\\Desktop\\Courses\\CS411\\Project Track 1\\Src\\Convert_CSV\\Data\""
   ]
  },
  {
   "cell_type": "markdown",
   "metadata": {},
   "source": [
    "### Sanity Checker"
   ]
  },
  {
   "cell_type": "code",
   "execution_count": 3,
   "metadata": {},
   "outputs": [],
   "source": [
    "def checkDateAndTimeSanity(str):\n",
    "    #Check if both date and time are present\n",
    "    arr = str.split(\" \")\n",
    "    if(len(arr)!=2):\n",
    "        print(\"Hi\")\n",
    "        return False\n",
    "    \n",
    "    date = arr[0].split(\"-\")\n",
    "    time = arr[1].split(\":\")\n",
    "    \n",
    "    #Check if year has four numbers\n",
    "    if(len(date[0])!=4):\n",
    "        print(\"Hi2\")\n",
    "        return False\n",
    "    \n",
    "    #Check month\n",
    "    if (int(date[1])>12) or (int(date[1])<1):\n",
    "        return False\n",
    "    \n",
    "    #Check day\n",
    "    if (int(date[2])>31) or (int(date[2])<1):\n",
    "        return False\n",
    "    \n",
    "    #Check hour\n",
    "    if (int(time[0])>24) or (int(time[0])<0):\n",
    "        return False\n",
    "    \n",
    "    #Check min\n",
    "    if (int(time[1])>60) or (int(time[1])<0):\n",
    "        return False\n",
    "    \n",
    "    #Check sec\n",
    "    if (int(time[2])>60) or (int(time[2])<0):\n",
    "        return False\n",
    "    \n",
    "    return True\n",
    "    \n",
    "\n",
    "def checkSanity(msg):\n",
    "    \n",
    "    #Check if string doesn't have ' and .\n",
    "    for key in msg:\n",
    "        if key!=\"lat\" and key!=\"lon\":\n",
    "            msg[key] = msg[key].replace(\"\\'\", \"\").replace(\".\", \"\")\n",
    "    \n",
    "    #Date and Time are in proper format\n",
    "    if (not checkDateAndTimeSanity(msg[\"reportedAt\"])):\n",
    "        print(\"reportedAt\")\n",
    "        return False\n",
    "    \n",
    "    if (not checkDateAndTimeSanity(msg[\"occuredAt\"])):\n",
    "        print(\"occuredAt\")\n",
    "        return False\n",
    "    \n",
    "    return True"
   ]
  },
  {
   "cell_type": "markdown",
   "metadata": {},
   "source": [
    "### Find CrimeTypeID"
   ]
  },
  {
   "cell_type": "code",
   "execution_count": 4,
   "metadata": {},
   "outputs": [],
   "source": [
    "def findCrimeTypeID_InsertIfNotPresent(crimeType):\n",
    "    sqlQeueryForCheckingIDExist = \"\"\"\n",
    "                                select crimeTypeID from CrimeType where type=\"{type}\"\n",
    "                                \"\"\"\n",
    "    checkingIDResult = dbhelp.executeSingleQueryWhichReturns(sqlQeueryForCheckingIDExist.format(type = crimeType))\n",
    "\n",
    "    #New Crime Type\n",
    "    if len(checkingIDResult)==0:\n",
    "\n",
    "        #Find new crimeTypeID\n",
    "        sqlQeueryForFindingLastID = \"\"\"\n",
    "                    SELECT * FROM CrimeType ORDER BY crimeTypeID DESC LIMIT 1\n",
    "\n",
    "                    \"\"\"\n",
    "        lastIDResult = dbhelp.executeSingleQueryWhichReturns(sqlQeueryForFindingLastID)\n",
    "    #     print(lastIDResult)\n",
    "\n",
    "        #Insert new crime type into the table\n",
    "        sqlqueryForInsertIntoTable_CrimeType =   \"\"\"\n",
    "                                        INSERT INTO CrimeType (crimeTypeID,type) \n",
    "                                        VALUES(\"{crimeTypeID}\",\"{type}\")\n",
    "                                        \"\"\"\n",
    "        querySuccessOrNot = dbhelp.executeSingleQuery(sqlqueryForInsertIntoTable_CrimeType.format(crimeTypeID = str(lastIDResult[0][0]+1), type = crimeType))\n",
    "        \n",
    "        if not querySuccessOrNot:\n",
    "            return False\n",
    "        \n",
    "        return str(lastIDResult[0][0]+1)\n",
    "    \n",
    "    #Crime type exsits\n",
    "    elif len(checkingIDResult)==1:\n",
    "        print(\"crimeTypeID already present\")\n",
    "        return checkingIDResult[0][0]\n",
    "\n",
    "    #Error\n",
    "    else:\n",
    "        print(\"Error in generating or finding crime type ID\")\n",
    "    \n",
    "    return None"
   ]
  },
  {
   "cell_type": "markdown",
   "metadata": {},
   "source": [
    "### Find blockID"
   ]
  },
  {
   "cell_type": "code",
   "execution_count": 5,
   "metadata": {},
   "outputs": [],
   "source": [
    "def search(lat, lon):\n",
    "    block_raw = np.loadtxt(csvFilePath + \"//\" + 'BlockLocation.csv', delimiter = ',', skiprows = 1)\n",
    "    block = np.zeros((50, 8))\n",
    "    for i in range(50):\n",
    "        block[int(block_raw[i,0]) - 1] = block_raw[i,1:] \n",
    "    \n",
    "    index = 0\n",
    "    for j in range(50):\n",
    "        if((lat < block[j][0]) & (lat > block[j][6]) & (lon < block[j][3]) & (lon > block[j][1])):\n",
    "            index = j + 1\n",
    "    print(index)\n",
    "    return index"
   ]
  },
  {
   "cell_type": "markdown",
   "metadata": {},
   "source": [
    "## Insert New Data"
   ]
  },
  {
   "cell_type": "code",
   "execution_count": 7,
   "metadata": {},
   "outputs": [],
   "source": [
    "def insertNewData(msg):\n",
    "    \n",
    "    try:\n",
    "        #Check sanity of the values\n",
    "        saneOrNot = checkSanity(msg)\n",
    "        if not saneOrNot:\n",
    "            return False\n",
    "\n",
    "        #Get blockID\n",
    "        msg[\"blockID\"] = search(float(msg[\"lat\"]), float(msg[\"lon\"]))\n",
    "\n",
    "        #Get crimeTypeID\n",
    "        msg[\"crimeTypeID\"] = findCrimeTypeID_InsertIfNotPresent(msg[\"type\"])\n",
    "        if msg[\"crimeTypeID\"]==None:\n",
    "            return False\n",
    "        \n",
    "        # Insert into Crime Table\n",
    "        sqlqueryForInsertIntoTable_Crime =   \"\"\"\n",
    "                                        INSERT INTO Crime (incidentID,reportedAt,occuredAt,disposition,crimeTypeID) \n",
    "                                        VALUES(\"{incidentID}\",\"{reportedAt}\",\"{occuredAt}\",\"{disposition}\",\"{crimeTypeID}\")\n",
    "                                        \"\"\"\n",
    "        querySuccessOrNot = dbhelp.executeSingleQuery(sqlqueryForInsertIntoTable_Crime.format(incidentID = msg[\"incidentID\"], \n",
    "                                                                              reportedAt = msg[\"reportedAt\"],\n",
    "                                                                              occuredAt = msg[\"occuredAt\"],\n",
    "                                                                              disposition = msg[\"disposition\"],\n",
    "                                                                              crimeTypeID = msg[\"crimeTypeID\"],\n",
    "                                                                             ))\n",
    "        if not querySuccessOrNot:\n",
    "            return False\n",
    "\n",
    "        # Insert into happensAt Table\n",
    "        sqlqueryForInsertIntoTable_happensAt =   \"\"\"\n",
    "                                        INSERT INTO happensAt (incidentID,blockID,genLocation) \n",
    "                                        VALUES(\"{incidentID}\",\"{blockID}\",\"{genLocation}\")\n",
    "                                        \"\"\"\n",
    "        querySuccessOrNot = dbhelp.executeSingleQuery(sqlqueryForInsertIntoTable_happensAt.format(incidentID = msg[\"incidentID\"], \n",
    "                                                                              blockID = msg[\"blockID\"],\n",
    "                                                                              genLocation = msg[\"genLocation\"]\n",
    "                                                                             ))\n",
    "        if not querySuccessOrNot:\n",
    "            return False\n",
    "        \n",
    "        print(\"Inserted the new row\")\n",
    "        return True\n",
    "    except e:\n",
    "        print(\"Couldn't insert the new row\")\n",
    "        print(e)\n",
    "        return False"
   ]
  },
  {
   "cell_type": "code",
   "execution_count": 12,
   "metadata": {},
   "outputs": [
    {
     "data": {
      "text/plain": [
       "{'incidentID': 'II1300563',\n",
       " 'reportedAt': '20135-1-1 11:39:00',\n",
       " 'occuredAt': '2013-1-1 11:39:00',\n",
       " 'disposition': 'ARREST',\n",
       " 'type': 'POSSESSION OF CANNABIS test5',\n",
       " 'genLocation': 'CIRCLE K',\n",
       " 'lat': '40.1081487',\n",
       " 'lon': '-88.2293074'}"
      ]
     },
     "execution_count": 12,
     "metadata": {},
     "output_type": "execute_result"
    }
   ],
   "source": [
    "# msg = {}\n",
    "# msg[\"incidentID\"] = \"II1300563\"\n",
    "# msg[\"reportedAt\"] = '2013-1-1 11:39:00'\n",
    "# msg[\"occuredAt\"] = '2013-1-1 11:39:00'\n",
    "# msg[\"disposition\"] = \"ARREST\"\n",
    "# msg[\"type\"] = \"POSSESSION OF CANNABIS test5\"\n",
    "# msg[\"genLocation\"] = \"CIRCLE K\"\n",
    "# msg[\"lat\"] = \"40.1081487\"\n",
    "# msg[\"lon\"] = \"-88.2293074\"\n",
    "# msg"
   ]
  },
  {
   "cell_type": "code",
   "execution_count": 13,
   "metadata": {},
   "outputs": [
    {
     "name": "stdout",
     "output_type": "stream",
     "text": [
      "Hi2\n",
      "reportedAt\n"
     ]
    },
    {
     "data": {
      "text/plain": [
       "False"
      ]
     },
     "execution_count": 13,
     "metadata": {},
     "output_type": "execute_result"
    }
   ],
   "source": [
    "# insertNewData(msg)"
   ]
  },
  {
   "cell_type": "markdown",
   "metadata": {},
   "source": [
    "## Delete Data"
   ]
  },
  {
   "cell_type": "code",
   "execution_count": 14,
   "metadata": {},
   "outputs": [],
   "source": [
    "columnsOfCrimeType = [\"type\", \"crimeTypeID\"]\n",
    "columnsOfCrime     = [\"incidentID\", \"reportedAt\", \"occuredAt\", \"disposition\"]\n",
    "columnsOfhappensAt = [\"genLocation\"]"
   ]
  },
  {
   "cell_type": "code",
   "execution_count": 16,
   "metadata": {},
   "outputs": [],
   "source": [
    "def getTableName(columnName):\n",
    "    if columnName in columnsOfCrimeType:\n",
    "        return \"CrimeType\"\n",
    "    \n",
    "    elif columnName in columnsOfCrime:\n",
    "        return \"Crime\"\n",
    "    \n",
    "    elif columnName in columnsOfhappensAt:\n",
    "        return \"happensAt\"\n",
    "    \n",
    "    else:\n",
    "        return None"
   ]
  },
  {
   "cell_type": "code",
   "execution_count": 18,
   "metadata": {},
   "outputs": [],
   "source": [
    "def deleteData(columnNameOfDeleteRecord, valueOfDeleteRecord):\n",
    "\n",
    "    tableNameOfDeleteRecord = getTableName(columnNameOfDeleteRecord)\n",
    "    if tableNameOfDeleteRecord == None:\n",
    "        return False\n",
    "    # Delete from Table\n",
    "    sqlqueryForDeleteFromTable = \"Delete from {tableName} where {columnName} = \\\"{value}\\\"\"\n",
    "\n",
    "    querySuccessOrNot = dbhelp.executeSingleQuery(sqlqueryForDeleteFromTable.format(tableName = tableNameOfDeleteRecord, \n",
    "                                                                columnName = columnNameOfDeleteRecord,\n",
    "                                                                value = valueOfDeleteRecord\n",
    "                                                                ))\n",
    "    if not querySuccessOrNot:\n",
    "        return False\n",
    "    else:\n",
    "        return True"
   ]
  },
  {
   "cell_type": "code",
   "execution_count": 19,
   "metadata": {},
   "outputs": [
    {
     "name": "stdout",
     "output_type": "stream",
     "text": [
      "Database Connected Successfully\n",
      "Query Successfully Executed\n"
     ]
    },
    {
     "data": {
      "text/plain": [
       "True"
      ]
     },
     "execution_count": 19,
     "metadata": {},
     "output_type": "execute_result"
    }
   ],
   "source": [
    "# columnNameOfDeleteRecord = \"type\"\n",
    "# valueOfDeleteRecord = \"RAPE\"\n",
    "# deleteData(columnNameOfDeleteRecord, valueOfDeleteRecord)"
   ]
  },
  {
   "cell_type": "markdown",
   "metadata": {},
   "source": [
    "## Update Data"
   ]
  },
  {
   "cell_type": "markdown",
   "metadata": {},
   "source": [
    "### **Note**: User can't directly update the primary key Columns of any tables: blockID, crimeTypeID, incidentID "
   ]
  },
  {
   "cell_type": "markdown",
   "metadata": {},
   "source": [
    "### Only one column"
   ]
  },
  {
   "cell_type": "markdown",
   "metadata": {},
   "source": [
    "**Function Name**: updateData(columnNameOfUpdateRecord, oldValueOfUpdateRecord, newValueOfUpdateRecord)\n",
    "    \n",
    "**Input**: 3 String values - columnNameOfUpdateRecord, oldValueOfUpdateRecord, newValueOfUpdateRecord                \n",
    "    \n",
    "**Output**: True/False whether the new data was inserted successfully or not\n",
    "    \n",
    "**Example**: \n",
    "\n",
    "            columnNameOfUpdateRecord = \"disposition\"\n",
    "            oldValueOfUpdateRecord = \"ARREST\"\n",
    "            newValueOfUpdateRecord = \"ARREST with Guns\"\n",
    "            updateData(columnNameOfUpdateRecord, oldValueOfUpdateRecord, newValueOfUpdateRecord)"
   ]
  },
  {
   "cell_type": "code",
   "execution_count": 74,
   "metadata": {},
   "outputs": [],
   "source": [
    "columnsWhichCantBeUpdated = [\"blockID\", \"crimeTypeID\", \"incidentID\"]"
   ]
  },
  {
   "cell_type": "code",
   "execution_count": 75,
   "metadata": {},
   "outputs": [],
   "source": [
    "def updateData(columnNameOfUpdateRecord, oldValueOfUpdateRecord, newValueOfUpdateRecord):\n",
    "    \n",
    "    if columnNameOfUpdateRecord in columnsWhichCantBeUpdated:\n",
    "        print(\"Unupdatable Columns. Read rules to update.\")\n",
    "        return False\n",
    "    \n",
    "    tableNameOfUpdateRecord = getTableName(columnNameOfUpdateRecord)\n",
    "    if tableNameOfUpdateRecord == None:\n",
    "        return False\n",
    "    \n",
    "    # Update Table\n",
    "    sqlqueryForDeleteFromTable = \"Update {tableName} set {columnName} = \\\"{newValue}\\\" where {columnName} = \\\"{oldValue}\\\"\"\n",
    "\n",
    "    querySuccessOrNot = dbhelp.executeSingleQuery(sqlqueryForDeleteFromTable.format(tableName = tableNameOfUpdateRecord, \n",
    "                                                                columnName = columnNameOfUpdateRecord,\n",
    "                                                                oldValue = oldValueOfUpdateRecord,\n",
    "                                                                newValue = newValueOfUpdateRecord\n",
    "                                                                ))\n",
    "    if not querySuccessOrNot:\n",
    "        return False\n",
    "    else:\n",
    "        return True"
   ]
  },
  {
   "cell_type": "code",
   "execution_count": 77,
   "metadata": {},
   "outputs": [],
   "source": [
    "# columnNameOfUpdateRecord = \"disposition\"\n",
    "# oldValueOfUpdateRecord = \"REPORTED TO OTHER\"\n",
    "# newValueOfUpdateRecord = \"ARREST \"\n",
    "# updateData(columnNameOfUpdateRecord, oldValueOfUpdateRecord, newValueOfUpdateRecord)"
   ]
  },
  {
   "cell_type": "markdown",
   "metadata": {},
   "source": [
    "### Only one column using Like operator"
   ]
  },
  {
   "cell_type": "markdown",
   "metadata": {},
   "source": [
    "**Function Name**: updateDataUsingLike(columnNameOfUpdateRecord, oldValueOfUpdateRecord, newValueOfUpdateRecord)\n",
    "    \n",
    "**Input**: 3 String values - columnNameOfUpdateRecord, oldValueOfUpdateRecord, newValueOfUpdateRecord                \n",
    "    \n",
    "**Output**: True/False whether the new data was inserted successfully or not\n",
    "    \n",
    "**Example**: \n",
    "\n",
    "            columnNameOfUpdateRecord = \"disposition\"\n",
    "            oldValueOfUpdateRecord = \"ARREST\"\n",
    "            newValueOfUpdateRecord = \"REPORTED TO OTHER\"\n",
    "            updateDataUsingLike(columnNameOfUpdateRecord, oldValueOfUpdateRecord, newValueOfUpdateRecord)"
   ]
  },
  {
   "cell_type": "code",
   "execution_count": 78,
   "metadata": {},
   "outputs": [],
   "source": [
    "def updateDataUsingLike(columnNameOfUpdateRecord, oldValueOfUpdateRecord, newValueOfUpdateRecord):\n",
    "    \n",
    "    if columnNameOfUpdateRecord in columnsWhichCantBeUpdated:\n",
    "        print(\"Unupdatable Columns. Read rules to update.\")\n",
    "        return False\n",
    "    \n",
    "    tableNameOfUpdateRecord = getTableName(columnNameOfUpdateRecord)\n",
    "    if tableNameOfUpdateRecord == None:\n",
    "        return False\n",
    "    \n",
    "    # Update Table\n",
    "    sqlqueryForDeleteFromTable = \"Update {tableName} set {columnName} = \\\"{newValue}\\\" where {columnName} like \\\"%{oldValue}%\\\"\"\n",
    "\n",
    "    querySuccessOrNot = dbhelp.executeSingleQuery(sqlqueryForDeleteFromTable.format(tableName = tableNameOfUpdateRecord, \n",
    "                                                                columnName = columnNameOfUpdateRecord,\n",
    "                                                                oldValue = oldValueOfUpdateRecord,\n",
    "                                                                newValue = newValueOfUpdateRecord\n",
    "                                                                ))\n",
    "    if not querySuccessOrNot:\n",
    "        return False\n",
    "    else:\n",
    "        return True"
   ]
  },
  {
   "cell_type": "code",
   "execution_count": 79,
   "metadata": {},
   "outputs": [],
   "source": [
    "# columnNameOfUpdateRecord = \"disposition\"\n",
    "# oldValueOfUpdateRecord = \"ARREST\"\n",
    "# newValueOfUpdateRecord = \"REPORTED TO OTHER\"\n",
    "# updateDataUsingLike(columnNameOfUpdateRecord, oldValueOfUpdateRecord, newValueOfUpdateRecord)"
   ]
  },
  {
   "cell_type": "markdown",
   "metadata": {},
   "source": [
    "### Two columns using IncidentID as Base"
   ]
  },
  {
   "cell_type": "markdown",
   "metadata": {},
   "source": [
    "**Function Name**: updateDataUsingLike(columnNameOfUpdateRecord, oldValueOfUpdateRecord, newValueOfUpdateRecord)\n",
    "    \n",
    "**Input**: 3 String/**Dictionary** values - columnNameOfUpdateRecord, oldValueOfUpdateRecord, newValueOfUpdateRecord                \n",
    "    \n",
    "**Output**: True/False whether the new data was inserted successfully or not\n",
    "    \n",
    "**Example**: \n",
    "            \n",
    "            Case 1: When column is Crime Table and not \"crimeTypeID\"\n",
    "                columnNameOfUpdateRecord = \"disposition\"\n",
    "                incidentIDValueOfUpdateRecord = \"II1300002\"\n",
    "                newValueOfUpdateRecord = \"DISARM AN OFFICER bleh test\"\n",
    "                updateDataUsingIncidentID(columnNameOfUpdateRecord, incidentIDValueOfUpdateRecord, newValueOfUpdateRecord)\n",
    "                \n",
    "            Case 2: When column is \"type\"\n",
    "                columnNameOfUpdateRecord = \"type\"\n",
    "                incidentIDValueOfUpdateRecord = \"II1300002\"\n",
    "                newValueOfUpdateRecord = \"RESIST/OBSTRUCT/DISARM AN OFFICER bleh test\"\n",
    "                updateDataUsingIncidentID(columnNameOfUpdateRecord, incidentIDValueOfUpdateRecord, newValueOfUpdateRecord)\n",
    "                \n",
    "            Case 3: When column is \"genLocation\"; newValueOfUpdateRecord is a dictionary of {genLocation, lat, lon} columns\n",
    "                columnNameOfUpdateRecord = \"genLocation\"\n",
    "                incidentIDValueOfUpdateRecord = \"II1300002\"\n",
    "                newValueOfUpdateRecord = {}\n",
    "                newValueOfUpdateRecord[\"genLocation\"] = \"CIRCLE K\"\n",
    "                newValueOfUpdateRecord[\"lat\"] = \"40.1081487\"\n",
    "                newValueOfUpdateRecord[\"lon\"] = \"-88.2293074\"\n",
    "                updateDataUsingIncidentID(columnNameOfUpdateRecord, incidentIDValueOfUpdateRecord, newValueOfUpdateRecord)"
   ]
  },
  {
   "cell_type": "code",
   "execution_count": 80,
   "metadata": {},
   "outputs": [],
   "source": [
    "def updateCrimeTable(columnNameOfUpdateRecord, incidentIDValueOfUpdateRecord, newValueOfUpdateRecordForCrimeTable):\n",
    "    \n",
    "    # Update Crime Table\n",
    "    sqlqueryForDeleteFromTable = \"Update Crime set {columnName} = \\\"{newValue}\\\" where incidentID = \\\"{incidentIDVal}\\\"\"\n",
    "\n",
    "    querySuccessOrNot = dbhelp.executeSingleQuery(sqlqueryForDeleteFromTable.format( \n",
    "                                                                columnName = columnNameOfUpdateRecord,\n",
    "                                                                incidentIDVal = incidentIDValueOfUpdateRecord,\n",
    "                                                                newValue = newValueOfUpdateRecordForCrimeTable\n",
    "                                                                ))\n",
    "    print(sqlqueryForDeleteFromTable.format(columnName = columnNameOfUpdateRecord,\n",
    "                                            incidentIDVal = incidentIDValueOfUpdateRecord,\n",
    "                                            newValue = newValueOfUpdateRecordForCrimeTable\n",
    "                                            )) \n",
    "    return querySuccessOrNot\n",
    "\n",
    "def updateHappensAtTable(blockIDValue, genLocationValue, incidentIDVal):\n",
    "    # Update happensAt Table\n",
    "    sqlqueryForDeleteFromTable = \"\"\"Update happensAt set \n",
    "                                    blockID = \\\"{blockIDValue}\\\",\n",
    "                                    genLocation = \\\"{genLocationValue}\\\"\n",
    "                                    where incidentID = \\\"{incidentIDVal}\\\"\n",
    "                                 \"\"\"\n",
    "\n",
    "    querySuccessOrNot = dbhelp.executeSingleQuery(sqlqueryForDeleteFromTable.format( \n",
    "                                                                blockIDValue = blockIDValue,\n",
    "                                                                genLocationValue = genLocationValue,\n",
    "                                                                incidentIDVal = incidentIDVal\n",
    "                                                                ))\n",
    "    return querySuccessOrNot"
   ]
  },
  {
   "cell_type": "code",
   "execution_count": 84,
   "metadata": {},
   "outputs": [],
   "source": [
    "def updateDataUsingIncidentID(columnNameOfUpdateRecord, incidentIDValueOfUpdateRecord, newValueOfUpdateRecord):\n",
    "    \n",
    "    if columnNameOfUpdateRecord in columnsWhichCantBeUpdated:\n",
    "        print(\"Unupdatable Columns. Read rules to update.\")\n",
    "        return False\n",
    "    \n",
    "    tableNameOfUpdateRecord = getTableName(columnNameOfUpdateRecord)\n",
    "    if tableNameOfUpdateRecord == None:\n",
    "        return False\n",
    "\n",
    "    newValueOfUpdateRecordForCrimeTable = None\n",
    "    columnNameOfUpdateRecordForCrimeTable = None\n",
    "    querySuccessOrNot = False\n",
    "\n",
    "    #Case 1: No extra processing required if change is in Crime table\n",
    "    if columnNameOfUpdateRecord in columnsOfCrime:\n",
    "        print(\"Case 1\")\n",
    "        newValueOfUpdateRecordForCrimeTable = newValueOfUpdateRecord\n",
    "        columnNameOfUpdateRecordForCrimeTable = columnNameOfUpdateRecord\n",
    "        #Update\n",
    "        querySuccessOrNot = updateCrimeTable(columnNameOfUpdateRecordForCrimeTable, incidentIDValueOfUpdateRecord, newValueOfUpdateRecordForCrimeTable)\n",
    "\n",
    "    #Case 2: Change crime type\n",
    "    elif columnNameOfUpdateRecord == \"type\":\n",
    "        print(\"Case 2\")\n",
    "        #Get crimeTypeID\n",
    "        newValueOfUpdateRecordForCrimeTable = findCrimeTypeID_InsertIfNotPresent(newValueOfUpdateRecord)\n",
    "        print(\"Got new ID\")\n",
    "        if newValueOfUpdateRecordForCrimeTable == None:\n",
    "            return False\n",
    "        columnNameOfUpdateRecordForCrimeTable = \"crimeTypeID\"\n",
    "        #Update \n",
    "        querySuccessOrNot = updateCrimeTable(columnNameOfUpdateRecordForCrimeTable, incidentIDValueOfUpdateRecord, newValueOfUpdateRecordForCrimeTable)\n",
    "    \n",
    "    #Case 3: Change genLocation\n",
    "    #newValueOfUpdateRecord is a dictionary of {genLocation, lat, lon} columns\n",
    "    elif columnNameOfUpdateRecord == \"genLocation\":\n",
    "        print(\"Case 3\")\n",
    "        blockIDOfUpdatedRecord = search(float(newValueOfUpdateRecord[\"lat\"]), float(newValueOfUpdateRecord[\"lon\"]))\n",
    "        #Update \n",
    "        querySuccessOrNot = updateHappensAtTable(blockIDOfUpdatedRecord, newValueOfUpdateRecord[\"genLocation\"], incidentIDValueOfUpdateRecord)\n",
    "        \n",
    "    else:\n",
    "        return False\n",
    "\n",
    "    if not querySuccessOrNot:\n",
    "        return False\n",
    "    else:\n",
    "        return True\n",
    "\n"
   ]
  },
  {
   "cell_type": "code",
   "execution_count": 82,
   "metadata": {},
   "outputs": [],
   "source": [
    "# columnNameOfUpdateRecord = \"genLocation\"\n",
    "# incidentIDValueOfUpdateRecord = \"II1300002\"\n",
    "# # newValueOfUpdateRecord = \"RESIST/OBSTRUCT/DISARM AN OFFICER bleh test\"\n",
    "# newValueOfUpdateRecord = {}\n",
    "# newValueOfUpdateRecord[\"genLocation\"] = \"CIRCLE K\"\n",
    "# newValueOfUpdateRecord[\"lat\"] = \"40.1081487\"\n",
    "# newValueOfUpdateRecord[\"lon\"] = \"-88.2293074\""
   ]
  },
  {
   "cell_type": "code",
   "execution_count": 83,
   "metadata": {},
   "outputs": [],
   "source": [
    "# updateDataUsingIncidentID(columnNameOfUpdateRecord, incidentIDValueOfUpdateRecord, newValueOfUpdateRecord)"
   ]
  },
  {
   "cell_type": "code",
   "execution_count": null,
   "metadata": {},
   "outputs": [],
   "source": []
  }
 ],
 "metadata": {
  "kernelspec": {
   "display_name": "Python 3",
   "language": "python",
   "name": "python3"
  },
  "language_info": {
   "codemirror_mode": {
    "name": "ipython",
    "version": 3
   },
   "file_extension": ".py",
   "mimetype": "text/x-python",
   "name": "python",
   "nbconvert_exporter": "python",
   "pygments_lexer": "ipython3",
   "version": "3.7.3"
  }
 },
 "nbformat": 4,
 "nbformat_minor": 2
}
