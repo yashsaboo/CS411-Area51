{
 "cells": [
  {
   "cell_type": "code",
   "execution_count": null,
   "metadata": {},
   "outputs": [],
   "source": [
    "\"\"\"\n",
    "Created on Thu Apr 9\n",
    "@author: yashsaboo\n",
    "\"\"\""
   ]
  },
  {
   "cell_type": "markdown",
   "metadata": {},
   "source": [
    "1. Check for sanity\n",
    "2. Convert the msg into three csv columns\n",
    "\n",
    "    i. find crimetypeid\n",
    "        a. Check if this crime is present or not. If not present, then add it to crimetype (first insert)\n",
    "    \n",
    "    ii. Find blockid\n",
    "        a. Call insert on crime\n",
    "    \n",
    "    iii. Call insert on happensAt"
   ]
  },
  {
   "cell_type": "code",
   "execution_count": 1,
   "metadata": {},
   "outputs": [],
   "source": [
    "import MySQLdb as mdb\n",
    "import DatabaseHelperFunctions as dbhelp\n",
    "import numpy as np"
   ]
  },
  {
   "cell_type": "code",
   "execution_count": 2,
   "metadata": {},
   "outputs": [],
   "source": [
    "csvFilePath = r\"C:\\Users\\Yash\\Desktop\\Courses\\CS411\\Project Track 1\\Src\\Convert_CSV\\Data\""
   ]
  },
  {
   "cell_type": "markdown",
   "metadata": {},
   "source": [
    "### Sanity Checker"
   ]
  },
  {
   "cell_type": "code",
   "execution_count": 3,
   "metadata": {},
   "outputs": [],
   "source": [
    "def checkDateAndTimeSanity(str):\n",
    "    #Check if both date and time are present\n",
    "    arr = str.split(\" \")\n",
    "    if(len(arr)!=2):\n",
    "        print(\"Hi\")\n",
    "        return False\n",
    "    \n",
    "    date = arr[0].split(\"-\")\n",
    "    time = arr[1].split(\":\")\n",
    "    \n",
    "    #Check if year has four numbers\n",
    "    if(len(date[0])!=4):\n",
    "        print(\"Hi2\")\n",
    "        return False\n",
    "    \n",
    "    #Check month\n",
    "    if (int(date[1])>12) or (int(date[1])<1):\n",
    "        return False\n",
    "    \n",
    "    #Check day\n",
    "    if (int(date[2])>31) or (int(date[2])<1):\n",
    "        return False\n",
    "    \n",
    "    #Check hour\n",
    "    if (int(time[0])>24) or (int(time[0])<0):\n",
    "        return False\n",
    "    \n",
    "    #Check min\n",
    "    if (int(time[1])>60) or (int(time[1])<0):\n",
    "        return False\n",
    "    \n",
    "    #Check sec\n",
    "    if (int(time[2])>60) or (int(time[2])<0):\n",
    "        return False\n",
    "    \n",
    "    return True\n",
    "    \n",
    "\n",
    "def checkSanity(msg):\n",
    "    \n",
    "    #Check if string doesn't have ' and .\n",
    "    for key in msg:\n",
    "        if key!=\"lat\" and key!=\"lon\":\n",
    "            msg[key] = msg[key].replace(\"\\'\", \"\").replace(\".\", \"\")\n",
    "    \n",
    "    #Date and Time are in proper format\n",
    "    if (not checkDateAndTimeSanity(msg[\"reportedAt\"])):\n",
    "        print(\"reportedAt\")\n",
    "        return False\n",
    "    \n",
    "    if (not checkDateAndTimeSanity(msg[\"occuredAt\"])):\n",
    "        print(\"occuredAt\")\n",
    "        return False\n",
    "    \n",
    "    return True"
   ]
  },
  {
   "cell_type": "markdown",
   "metadata": {},
   "source": [
    "### Find CrimeTypeID"
   ]
  },
  {
   "cell_type": "code",
   "execution_count": 4,
   "metadata": {},
   "outputs": [],
   "source": [
    "def findCrimeTypeID_InsertIfNotPresent(crimeType):\n",
    "    sqlQeueryForCheckingIDExist = \"\"\"\n",
    "                                select crimeTypeID from CrimeType where type=\"{type}\"\n",
    "                                \"\"\"\n",
    "    checkingIDResult = dbhelp.executeSingleQueryWhichReturns(sqlQeueryForCheckingIDExist.format(type = crimeType))\n",
    "\n",
    "    #New Crime Type\n",
    "    if len(checkingIDResult)==0:\n",
    "\n",
    "        #Find new crimeTypeID\n",
    "        sqlQeueryForFindingLastID = \"\"\"\n",
    "                    SELECT * FROM CrimeType ORDER BY crimeTypeID DESC LIMIT 1\n",
    "\n",
    "                    \"\"\"\n",
    "        lastIDResult = dbhelp.executeSingleQueryWhichReturns(sqlQeueryForFindingLastID)\n",
    "    #     print(lastIDResult)\n",
    "\n",
    "        #Insert new crime type into the table\n",
    "        sqlqueryForInsertIntoTable_CrimeType =   \"\"\"\n",
    "                                        INSERT INTO CrimeType (crimeTypeID,type) \n",
    "                                        VALUES(\"{crimeTypeID}\",\"{type}\")\n",
    "                                        \"\"\"\n",
    "        dbhelp.executeSingleQuery(sqlqueryForInsertIntoTable_CrimeType.format(crimeTypeID = str(lastIDResult[0][0]+1), type = crimeType))\n",
    "        \n",
    "        return str(lastIDResult[0][0]+1)\n",
    "    \n",
    "    #Crime type exisits\n",
    "    elif len(checkingIDResult)==1:\n",
    "        print(\"crimeTypeID already present\")\n",
    "        return checkingIDResult[0][0]\n",
    "\n",
    "    #Error\n",
    "    else:\n",
    "        print(\"Error in generating or finding crime type ID\")\n",
    "    \n",
    "    return None"
   ]
  },
  {
   "cell_type": "markdown",
   "metadata": {},
   "source": [
    "### Find blockID"
   ]
  },
  {
   "cell_type": "code",
   "execution_count": 5,
   "metadata": {},
   "outputs": [],
   "source": [
    "def search(lat, lon):\n",
    "    block_raw = np.loadtxt(csvFilePath + \"//\" + 'BlockLocation.csv', delimiter = ',', skiprows = 1)\n",
    "    block = np.zeros((50, 8))\n",
    "    for i in range(50):\n",
    "        block[int(block_raw[i,0]) - 1] = block_raw[i,1:] \n",
    "    \n",
    "    index = 0\n",
    "    for j in range(50):\n",
    "        if((lat < block[j][0]) & (lat > block[j][6]) & (lon < block[j][3]) & (lon > block[j][1])):\n",
    "            index = j + 1\n",
    "    print(index)\n",
    "    return index"
   ]
  },
  {
   "cell_type": "code",
   "execution_count": 11,
   "metadata": {},
   "outputs": [],
   "source": [
    "def insertNewData(msg):\n",
    "    \n",
    "    try:\n",
    "        #Check sanity of the values\n",
    "        checkSanity(msg)\n",
    "\n",
    "        #Get blockID\n",
    "        msg[\"blockID\"] = search(float(msg[\"lat\"]), float(msg[\"lon\"]))\n",
    "\n",
    "        #Get crimeTypeID\n",
    "        msg[\"crimeTypeID\"] = findCrimeTypeID_InsertIfNotPresent(msg[\"type\"])\n",
    "\n",
    "        # Insert into Crime Table\n",
    "        sqlqueryForInsertIntoTable_Crime =   \"\"\"\n",
    "                                        INSERT INTO Crime (incidentID,reportedAt,occuredAt,disposition,crimeTypeID) \n",
    "                                        VALUES(\"{incidentID}\",\"{reportedAt}\",\"{occuredAt}\",\"{disposition}\",\"{crimeTypeID}\")\n",
    "                                        \"\"\"\n",
    "        dbhelp.executeSingleQuery(sqlqueryForInsertIntoTable_Crime.format(incidentID = msg[\"incidentID\"], \n",
    "                                                                              reportedAt = msg[\"reportedAt\"],\n",
    "                                                                              occuredAt = msg[\"occuredAt\"],\n",
    "                                                                              disposition = msg[\"disposition\"],\n",
    "                                                                              crimeTypeID = msg[\"crimeTypeID\"],\n",
    "                                                                             ))\n",
    "\n",
    "        # Insert into happensAt Table\n",
    "        sqlqueryForInsertIntoTable_happensAt =   \"\"\"\n",
    "                                        INSERT INTO happensAt (incidentID,blockID,genLocation) \n",
    "                                        VALUES(\"{incidentID}\",\"{blockID}\",\"{genLocation}\")\n",
    "                                        \"\"\"\n",
    "        dbhelp.executeSingleQuery(sqlqueryForInsertIntoTable_happensAt.format(incidentID = msg[\"incidentID\"], \n",
    "                                                                              blockID = msg[\"blockID\"],\n",
    "                                                                              genLocation = msg[\"genLocation\"]\n",
    "                                                                             ))\n",
    "        \n",
    "        print(\"Inserted the new row\")\n",
    "    except e:\n",
    "        print(\"Couldn't insert the new row\")\n",
    "        print(e)"
   ]
  },
  {
   "cell_type": "code",
   "execution_count": null,
   "metadata": {},
   "outputs": [],
   "source": []
  },
  {
   "cell_type": "code",
   "execution_count": null,
   "metadata": {},
   "outputs": [],
   "source": []
  },
  {
   "cell_type": "code",
   "execution_count": null,
   "metadata": {},
   "outputs": [],
   "source": []
  },
  {
   "cell_type": "code",
   "execution_count": null,
   "metadata": {},
   "outputs": [],
   "source": []
  },
  {
   "cell_type": "code",
   "execution_count": null,
   "metadata": {},
   "outputs": [],
   "source": []
  },
  {
   "cell_type": "code",
   "execution_count": 12,
   "metadata": {},
   "outputs": [
    {
     "data": {
      "text/plain": [
       "{'incidentID': 'II1300567',\n",
       " 'reportedAt': '2013-1-1 11:39:00',\n",
       " 'occuredAt': '2013-1-1 11:39:00',\n",
       " 'disposition': 'ARREST',\n",
       " 'type': 'POSSESSION OF CANNABIS test5',\n",
       " 'genLocation': 'CIRCLE K',\n",
       " 'lat': '40.1081487',\n",
       " 'lon': '-88.2293074'}"
      ]
     },
     "execution_count": 12,
     "metadata": {},
     "output_type": "execute_result"
    }
   ],
   "source": [
    "msg = {}\n",
    "msg[\"incidentID\"] = \"II1300567\"\n",
    "msg[\"reportedAt\"] = '2013-1-1 11:39:00'\n",
    "msg[\"occuredAt\"] = '2013-1-1 11:39:00'\n",
    "msg[\"disposition\"] = \"ARREST\"\n",
    "msg[\"type\"] = \"POSSESSION OF CANNABIS test5\"\n",
    "msg[\"genLocation\"] = \"CIRCLE K\"\n",
    "msg[\"lat\"] = \"40.1081487\"\n",
    "msg[\"lon\"] = \"-88.2293074\"\n",
    "msg"
   ]
  },
  {
   "cell_type": "code",
   "execution_count": 13,
   "metadata": {},
   "outputs": [
    {
     "name": "stdout",
     "output_type": "stream",
     "text": [
      "18\n",
      "Database Connected Successfully\n",
      "Query Successfully Executed and Fetched\n",
      "Database Closed Successfully\n",
      "crimeTypeID already present\n",
      "Database Connected Successfully\n",
      "Query Successfully Executed\n",
      "Database Closed Successfully\n",
      "Database Connected Successfully\n",
      "Query Successfully Executed\n",
      "Database Closed Successfully\n",
      "Inserted the new row\n"
     ]
    }
   ],
   "source": [
    "insertNewData(msg)"
   ]
  },
  {
   "cell_type": "code",
   "execution_count": null,
   "metadata": {},
   "outputs": [],
   "source": []
  },
  {
   "cell_type": "code",
   "execution_count": null,
   "metadata": {},
   "outputs": [],
   "source": []
  }
 ],
 "metadata": {
  "kernelspec": {
   "display_name": "Python 3",
   "language": "python",
   "name": "python3"
  },
  "language_info": {
   "codemirror_mode": {
    "name": "ipython",
    "version": 3
   },
   "file_extension": ".py",
   "mimetype": "text/x-python",
   "name": "python",
   "nbconvert_exporter": "python",
   "pygments_lexer": "ipython3",
   "version": "3.7.3"
  }
 },
 "nbformat": 4,
 "nbformat_minor": 2
}
