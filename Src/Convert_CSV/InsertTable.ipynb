{
 "cells": [
  {
   "cell_type": "code",
   "execution_count": 33,
   "metadata": {},
   "outputs": [],
   "source": [
    "import MySQLdb as mdb"
   ]
  },
  {
   "cell_type": "code",
   "execution_count": 34,
   "metadata": {},
   "outputs": [],
   "source": [
    "DBNAME = \"dbtest\"\n",
    "DBHOST = \"localhost\"\n",
    "DBPASS = \"\"\n",
    "DBUSER = \"root\""
   ]
  },
  {
   "cell_type": "code",
   "execution_count": 35,
   "metadata": {},
   "outputs": [],
   "source": [
    "def connectToDatabase():\n",
    "    try:\n",
    "        db = mdb.connect(DBHOST, DBUSER, DBPASS, DBNAME, charset='utf8', port=3308)\n",
    "        print(\"Database Connected Successfully\")\n",
    "        return db\n",
    "    except mdb.Error as e:\n",
    "        print(e)\n",
    "        print(\"Database Not Connected Successfully\")\n",
    "        return None\n",
    "    \n",
    "def closeDatabase(db):\n",
    "    try:\n",
    "        db.close()\n",
    "        print(\"Database Closed Successfully\")\n",
    "    except mdb.Error as e:\n",
    "        print(e)\n",
    "        print(\"Database Not Closed Successfully\")"
   ]
  },
  {
   "cell_type": "code",
   "execution_count": 36,
   "metadata": {},
   "outputs": [],
   "source": [
    "def executeSingleQuery(sqlquery):\n",
    "    \n",
    "    db = connectToDatabase()\n",
    "    \n",
    "    try:\n",
    "        cur = db.cursor()\n",
    "\n",
    "        # execute query\n",
    "        cur.execute(sqlquery)\n",
    "        print(\"Query Successfully Executed\")\n",
    "        \n",
    "        db.commit()\n",
    "\n",
    "    except mdb.Error as e:\n",
    "        print(e)\n",
    "        print(\"Query Not Successfully Executed\" + sqlquery)\n",
    "        \n",
    "    closeDatabase(db)"
   ]
  },
  {
   "cell_type": "markdown",
   "metadata": {},
   "source": [
    "## Insert into BlockLocation Table"
   ]
  },
  {
   "cell_type": "code",
   "execution_count": 37,
   "metadata": {},
   "outputs": [
    {
     "name": "stdout",
     "output_type": "stream",
     "text": [
      "Database Connected Successfully\n",
      "Query Successfully Executed\n",
      "Database Closed Successfully\n"
     ]
    }
   ],
   "source": [
    "sqlqueryForInsertIntoTable_BlockLocation =   \"\"\"\n",
    "                                    INSERT INTO Crime (incidentID, reportedAt, occuredAt, deposition) \n",
    "                                    VALUES ('II1300026', '2013-1-1 1:39:00', '2013-1-1 1:39:00' ,'ARREST');\n",
    "                                    \"\"\"\n",
    "executeSingleQuery(sqlqueryForInsertIntoTable_BlockLocation)"
   ]
  },
  {
   "cell_type": "code",
   "execution_count": null,
   "metadata": {},
   "outputs": [],
   "source": []
  },
  {
   "cell_type": "markdown",
   "metadata": {},
   "source": [
    "## Insert into Crime Table"
   ]
  },
  {
   "cell_type": "code",
   "execution_count": 37,
   "metadata": {},
   "outputs": [
    {
     "name": "stdout",
     "output_type": "stream",
     "text": [
      "Database Connected Successfully\n",
      "Query Successfully Executed\n",
      "Database Closed Successfully\n"
     ]
    }
   ],
   "source": [
    "sqlqueryForInsertIntoTable_Crime =   \"\"\"\n",
    "                                    INSERT INTO Crime (incidentID, reportedAt, occuredAt, deposition) \n",
    "                                    VALUES ('II1300026', '2013-1-1 1:39:00', '2013-1-1 1:39:00' ,'ARREST');\n",
    "                                    \"\"\"\n",
    "executeSingleQuery(sqlqueryForInsertIntoTable_Crime)"
   ]
  },
  {
   "cell_type": "code",
   "execution_count": null,
   "metadata": {},
   "outputs": [],
   "source": []
  },
  {
   "cell_type": "code",
   "execution_count": null,
   "metadata": {},
   "outputs": [],
   "source": []
  },
  {
   "cell_type": "code",
   "execution_count": null,
   "metadata": {},
   "outputs": [],
   "source": []
  },
  {
   "cell_type": "code",
   "execution_count": null,
   "metadata": {},
   "outputs": [],
   "source": []
  },
  {
   "cell_type": "code",
   "execution_count": 17,
   "metadata": {},
   "outputs": [
    {
     "name": "stdout",
     "output_type": "stream",
     "text": [
      "Database Connected Successfully\n",
      "Data Inserted Successfully\n"
     ]
    }
   ],
   "source": [
    "try:\n",
    "    db = mdb.connect(DBHOST, DBUSER, DBPASS, DBNAME, charset='utf8', port=3308)\n",
    "    print(\"Database Connected Successfully\")\n",
    "\n",
    "    cur = db.cursor()\n",
    "    querysql = \"\"\"\n",
    "    INSERT INTO Crime (incidentID, reportedAt, occuredAt, deposition) \n",
    "    VALUES ('II1300026', '2013-1-1 1:39:00', '2013-1-1 1:39:00' ,'ARREST');\n",
    "    \"\"\"\n",
    "    cur.execute(querysql)\n",
    "    #commit changes in the database\n",
    "    db.commit()\n",
    "    print(\"Data Inserted Successfully\")\n",
    "    \n",
    "except mdb.Error as e:\n",
    "    print(e)\n",
    "    db.rollback()\n",
    "    #roolback if there is an error\n",
    "db.close()"
   ]
  },
  {
   "cell_type": "code",
   "execution_count": null,
   "metadata": {},
   "outputs": [],
   "source": []
  }
 ],
 "metadata": {
  "kernelspec": {
   "display_name": "Python 3",
   "language": "python",
   "name": "python3"
  },
  "language_info": {
   "codemirror_mode": {
    "name": "ipython",
    "version": 3
   },
   "file_extension": ".py",
   "mimetype": "text/x-python",
   "name": "python",
   "nbconvert_exporter": "python",
   "pygments_lexer": "ipython3",
   "version": "3.7.3"
  }
 },
 "nbformat": 4,
 "nbformat_minor": 2
}
