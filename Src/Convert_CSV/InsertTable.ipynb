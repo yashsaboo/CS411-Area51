{
 "cells": [
  {
   "cell_type": "markdown",
   "metadata": {},
   "source": [
    "Assumptions:\n",
    "    1. The column names won't have any whitespace or period in it. If the CSV file columns have it, then it will be replaced with underscore."
   ]
  },
  {
   "cell_type": "code",
   "execution_count": 42,
   "metadata": {},
   "outputs": [],
   "source": [
    "import MySQLdb as mdb\n",
    "import csv\n",
    "import pandas as pd"
   ]
  },
  {
   "cell_type": "code",
   "execution_count": 43,
   "metadata": {},
   "outputs": [],
   "source": [
    "DBNAME = \"dbtest\"\n",
    "DBHOST = \"localhost\"\n",
    "DBPASS = \"\"\n",
    "DBUSER = \"root\""
   ]
  },
  {
   "cell_type": "code",
   "execution_count": 44,
   "metadata": {},
   "outputs": [],
   "source": [
    "csvFilePath = r\"C:\\Users\\Yash\\Desktop\\Courses\\CS411\\Project Track 1\\Src\\Convert_CSV\\Data\""
   ]
  },
  {
   "cell_type": "code",
   "execution_count": 45,
   "metadata": {},
   "outputs": [],
   "source": [
    "def connectToDatabase():\n",
    "    try:\n",
    "        db = mdb.connect(DBHOST, DBUSER, DBPASS, DBNAME, charset='utf8', port=3308)\n",
    "        print(\"Database Connected Successfully\")\n",
    "        return db\n",
    "    except mdb.Error as e:\n",
    "        print(e)\n",
    "        print(\"Database Not Connected Successfully\")\n",
    "        return None\n",
    "    \n",
    "def closeDatabase(db):\n",
    "    try:\n",
    "        db.close()\n",
    "        print(\"Database Closed Successfully\")\n",
    "    except mdb.Error as e:\n",
    "        print(e)\n",
    "        print(\"Database Not Closed Successfully\")"
   ]
  },
  {
   "cell_type": "code",
   "execution_count": 46,
   "metadata": {},
   "outputs": [],
   "source": [
    "def executeSingleQuery(sqlquery):\n",
    "    \n",
    "    db = connectToDatabase()\n",
    "    \n",
    "    try:\n",
    "        cur = db.cursor()\n",
    "\n",
    "        # execute query\n",
    "        cur.execute(sqlquery)\n",
    "        print(\"Query Successfully Executed\")\n",
    "        \n",
    "        db.commit()\n",
    "\n",
    "    except mdb.Error as e:\n",
    "        print(e)\n",
    "        print(\"Query Not Successfully Executed\" + sqlquery)\n",
    "        \n",
    "    closeDatabase(db)"
   ]
  },
  {
   "cell_type": "code",
   "execution_count": 65,
   "metadata": {},
   "outputs": [],
   "source": [
    "def getListOfInsertQueries(csvName, tableName):\n",
    "    \n",
    "    # Load CSV and get column names\n",
    "    csvData = pd.read_csv(csvFilePath+\"\\\\\"+csvName)\n",
    "    listOfcsvDataColumns = list(csvData.columns)\n",
    "    \n",
    "    # INSERT INTO Employee (Name, Email, Age) VALUES ('John', 'john@gmail.com', '25')\n",
    "    \n",
    "    columnNamesInQueryFormat = \"(\"\n",
    "    for i in listOfcsvDataColumns:\n",
    "        columnNamesInQueryFormat = columnNamesInQueryFormat + i.replace(\" \", \"_\").replace(\".\", \"_\") +\",\" #Replaces whitespace and period with underscore for column names\n",
    "    columnNamesInQueryFormat = columnNamesInQueryFormat[:-1] + \")\";\n",
    "\n",
    "    partialInsertQuery = \"INSERT INTO \" + tableName + \" \" + columnNamesInQueryFormat + \" VALUES\"\n",
    "    print(partialInsertQuery)\n",
    "    \n",
    "    listOfInsertQueries = []\n",
    "    \n",
    "    for i in range(0,csvData.shape[0]):\n",
    "        betterHalfOfInsertQuery = \"(\"\n",
    "        for j in range(0,csvData.shape[1]):\n",
    "#             print(betterHalfOfInsertQuery)\n",
    "            data = str(csvData.at[i, listOfcsvDataColumns[j]])\n",
    "            betterHalfOfInsertQuery = betterHalfOfInsertQuery + \"'\" + data + \"',\"\n",
    "        betterHalfOfInsertQuery = betterHalfOfInsertQuery[:-1] + \")\"\n",
    "        listOfInsertQueries.append(partialInsertQuery + betterHalfOfInsertQuery)\n",
    "    \n",
    "    return listOfInsertQueries"
   ]
  },
  {
   "cell_type": "markdown",
   "metadata": {},
   "source": [
    "## Insert into BlockLocation Table"
   ]
  },
  {
   "cell_type": "code",
   "execution_count": 69,
   "metadata": {},
   "outputs": [
    {
     "name": "stdout",
     "output_type": "stream",
     "text": [
      "INSERT INTO BlockLocation (blockID,topLeft_lat,topLeft_lon,topRight_lat,topRight_lon,bottomLeft_lat,bottomLeft_lon,bottomRight_lat,bottomRight_lon) VALUES\n"
     ]
    },
    {
     "data": {
      "text/plain": [
       "[\"INSERT INTO BlockLocation (blockID,topLeft_lat,topLeft_lon,topRight_lat,topRight_lon,bottomLeft_lat,bottomLeft_lon,bottomRight_lat,bottomRight_lon) VALUES('1','40.116411','-88.228957','40.116411','-88.225699','40.112745000000004','-88.228957','40.112745000000004','-88.225699')\",\n",
       " \"INSERT INTO BlockLocation (blockID,topLeft_lat,topLeft_lon,topRight_lat,topRight_lon,bottomLeft_lat,bottomLeft_lon,bottomRight_lat,bottomRight_lon) VALUES('2','40.116411','-88.225699','40.116411','-88.22405400000001','40.11544','-88.225699','40.11544','-88.22405400000001')\",\n",
       " \"INSERT INTO BlockLocation (blockID,topLeft_lat,topLeft_lon,topRight_lat,topRight_lon,bottomLeft_lat,bottomLeft_lon,bottomRight_lat,bottomRight_lon) VALUES('3','40.116411','-88.22405400000001','40.116411','-88.22238','40.11544','-88.22405400000001','40.11544','-88.22238')\",\n",
       " \"INSERT INTO BlockLocation (blockID,topLeft_lat,topLeft_lon,topRight_lat,topRight_lon,bottomLeft_lat,bottomLeft_lon,bottomRight_lat,bottomRight_lon) VALUES('4','40.11544','-88.225699','40.11544','-88.22405400000001','40.113538','-88.225699','40.113538','-88.22405400000001')\",\n",
       " \"INSERT INTO BlockLocation (blockID,topLeft_lat,topLeft_lon,topRight_lat,topRight_lon,bottomLeft_lat,bottomLeft_lon,bottomRight_lat,bottomRight_lon) VALUES('5','40.11544','-88.22405400000001','40.11544','-88.22238','44.1145','-88.22405400000001','40.1145','-88.22238')\",\n",
       " \"INSERT INTO BlockLocation (blockID,topLeft_lat,topLeft_lon,topRight_lat,topRight_lon,bottomLeft_lat,bottomLeft_lon,bottomRight_lat,bottomRight_lon) VALUES('6','44.1145','-88.22405400000001','40.1145','-88.22238','40.113538','-88.22405400000001','40.113538','-88.22238')\",\n",
       " \"INSERT INTO BlockLocation (blockID,topLeft_lat,topLeft_lon,topRight_lat,topRight_lon,bottomLeft_lat,bottomLeft_lon,bottomRight_lat,bottomRight_lon) VALUES('7','40.113538','-88.225699','40.113538','-88.22405400000001','40.112745000000004','-88.225699','40.112745000000004','-88.22405400000001')\",\n",
       " \"INSERT INTO BlockLocation (blockID,topLeft_lat,topLeft_lon,topRight_lat,topRight_lon,bottomLeft_lat,bottomLeft_lon,bottomRight_lat,bottomRight_lon) VALUES('8','40.113538','-88.22405400000001','40.113538','-88.22238','40.112745000000004','-88.22405400000001','40.112745000000004','-88.22238')\",\n",
       " \"INSERT INTO BlockLocation (blockID,topLeft_lat,topLeft_lon,topRight_lat,topRight_lon,bottomLeft_lat,bottomLeft_lon,bottomRight_lat,bottomRight_lon) VALUES('9','40.112745000000004','-88.23044300000001','40.112745000000004','-88.228957','40.111514','-88.23044300000001','40.111514','-88.228957')\",\n",
       " \"INSERT INTO BlockLocation (blockID,topLeft_lat,topLeft_lon,topRight_lat,topRight_lon,bottomLeft_lat,bottomLeft_lon,bottomRight_lat,bottomRight_lon) VALUES('10','40.111514','-88.23044300000001','40.111514','-88.228957','40.110321','-88.23044300000001','40.110321','-88.228957')\",\n",
       " \"INSERT INTO BlockLocation (blockID,topLeft_lat,topLeft_lon,topRight_lat,topRight_lon,bottomLeft_lat,bottomLeft_lon,bottomRight_lat,bottomRight_lon) VALUES('11','40.112745000000004','-88.228957','40.112745000000004','-88.225699','40.110321','-88.228957','40.110321','-88.225699')\",\n",
       " \"INSERT INTO BlockLocation (blockID,topLeft_lat,topLeft_lon,topRight_lat,topRight_lon,bottomLeft_lat,bottomLeft_lon,bottomRight_lat,bottomRight_lon) VALUES('12','40.112745000000004','-88.225699','40.112745000000004','-88.22405400000001','40.110321','-88.225699','40.110321','-88.22405400000001')\",\n",
       " \"INSERT INTO BlockLocation (blockID,topLeft_lat,topLeft_lon,topRight_lat,topRight_lon,bottomLeft_lat,bottomLeft_lon,bottomRight_lat,bottomRight_lon) VALUES('13','40.112745000000004','-88.22405400000001','40.112745000000004','-88.220667','40.110321','-88.22405400000001','40.110321','-88.220667')\",\n",
       " \"INSERT INTO BlockLocation (blockID,topLeft_lat,topLeft_lon,topRight_lat,topRight_lon,bottomLeft_lat,bottomLeft_lon,bottomRight_lat,bottomRight_lon) VALUES('14','40.110321','-88.23044300000001','40.110321','-88.228957','40.109062','-88.23044300000001','40.109062','-88.228957')\",\n",
       " \"INSERT INTO BlockLocation (blockID,topLeft_lat,topLeft_lon,topRight_lat,topRight_lon,bottomLeft_lat,bottomLeft_lon,bottomRight_lat,bottomRight_lon) VALUES('15','40.110321','-88.225699','40.110321','-88.22405400000001','40.106983','-88.225699','40.106983','-88.22405400000001')\",\n",
       " \"INSERT INTO BlockLocation (blockID,topLeft_lat,topLeft_lon,topRight_lat,topRight_lon,bottomLeft_lat,bottomLeft_lon,bottomRight_lat,bottomRight_lon) VALUES('16','40.110321','-88.22405400000001','40.110321','-88.219316','40.109044','-88.22405400000001','40.109044','-88.219316')\",\n",
       " \"INSERT INTO BlockLocation (blockID,topLeft_lat,topLeft_lon,topRight_lat,topRight_lon,bottomLeft_lat,bottomLeft_lon,bottomRight_lat,bottomRight_lon) VALUES('17','40.109062','-88.23201','40.109062','-88.23044300000001','40.107964','-88.23201','40.107964','-88.23044300000001')\",\n",
       " \"INSERT INTO BlockLocation (blockID,topLeft_lat,topLeft_lon,topRight_lat,topRight_lon,bottomLeft_lat,bottomLeft_lon,bottomRight_lat,bottomRight_lon) VALUES('18','40.109062','-88.23044300000001','40.109062','-88.228957','40.107964','-88.23044300000001','40.107964','-88.228957')\",\n",
       " \"INSERT INTO BlockLocation (blockID,topLeft_lat,topLeft_lon,topRight_lat,topRight_lon,bottomLeft_lat,bottomLeft_lon,bottomRight_lat,bottomRight_lon) VALUES('19','40.109044','-88.22405400000001','40.109044','-88.221577','40.106983','-88.22405400000001','40.106983','-88.221577')\",\n",
       " \"INSERT INTO BlockLocation (blockID,topLeft_lat,topLeft_lon,topRight_lat,topRight_lon,bottomLeft_lat,bottomLeft_lon,bottomRight_lat,bottomRight_lon) VALUES('20','40.109044','-88.221577','40.109044','-88.219316','40.106983','-88.221577','40.109044','-88.219316')\",\n",
       " \"INSERT INTO BlockLocation (blockID,topLeft_lat,topLeft_lon,topRight_lat,topRight_lon,bottomLeft_lat,bottomLeft_lon,bottomRight_lat,bottomRight_lon) VALUES('21','40.107964','-88.233536','40.107964','-88.23201','40.106823','-88.233536','40.106823','-88.23201')\",\n",
       " \"INSERT INTO BlockLocation (blockID,topLeft_lat,topLeft_lon,topRight_lat,topRight_lon,bottomLeft_lat,bottomLeft_lon,bottomRight_lat,bottomRight_lon) VALUES('22','40.107964','-88.23201','40.107964','-88.23044300000001','40.106823','-88.23201','40.106823','-88.23044300000001')\",\n",
       " \"INSERT INTO BlockLocation (blockID,topLeft_lat,topLeft_lon,topRight_lat,topRight_lon,bottomLeft_lat,bottomLeft_lon,bottomRight_lat,bottomRight_lon) VALUES('23','40.107964','-88.23044300000001','40.107964','-88.228957','40.106823','-88.23044300000001','40.106823','-88.228957')\",\n",
       " \"INSERT INTO BlockLocation (blockID,topLeft_lat,topLeft_lon,topRight_lat,topRight_lon,bottomLeft_lat,bottomLeft_lon,bottomRight_lat,bottomRight_lon) VALUES('24','40.106983','-88.225699','40.106983','-88.22405400000001','40.105954','-88.225699','40.105954','-88.22405400000001')\",\n",
       " \"INSERT INTO BlockLocation (blockID,topLeft_lat,topLeft_lon,topRight_lat,topRight_lon,bottomLeft_lat,bottomLeft_lon,bottomRight_lat,bottomRight_lon) VALUES('25','40.106983','-88.22405400000001','40.106983','-88.221577','40.105954','-88.22405400000001','40.105954','-88.221577')\",\n",
       " \"INSERT INTO BlockLocation (blockID,topLeft_lat,topLeft_lon,topRight_lat,topRight_lon,bottomLeft_lat,bottomLeft_lon,bottomRight_lat,bottomRight_lon) VALUES('26','40.106983','-88.221577','40.106983','-88.219316','40.105954','-88.221577','40.105954','-88.219316')\",\n",
       " \"INSERT INTO BlockLocation (blockID,topLeft_lat,topLeft_lon,topRight_lat,topRight_lon,bottomLeft_lat,bottomLeft_lon,bottomRight_lat,bottomRight_lon) VALUES('27','40.106823','-88.233536','40.106823','-88.23201','40.105416','-88.233536','40.105416','-88.23201')\",\n",
       " \"INSERT INTO BlockLocation (blockID,topLeft_lat,topLeft_lon,topRight_lat,topRight_lon,bottomLeft_lat,bottomLeft_lon,bottomRight_lat,bottomRight_lon) VALUES('28','40.106823','-88.23201','40.106823','-88.23044300000001','40.105416','-88.23201','40.105416','-88.23044300000001')\",\n",
       " \"INSERT INTO BlockLocation (blockID,topLeft_lat,topLeft_lon,topRight_lat,topRight_lon,bottomLeft_lat,bottomLeft_lon,bottomRight_lat,bottomRight_lon) VALUES('29','40.106823','-88.23044300000001','40.106823','-88.228957','40.105416','-88.23044300000001','40.105416','-88.228957')\",\n",
       " \"INSERT INTO BlockLocation (blockID,topLeft_lat,topLeft_lon,topRight_lat,topRight_lon,bottomLeft_lat,bottomLeft_lon,bottomRight_lat,bottomRight_lon) VALUES('30','40.105416','-88.241528','40.105416','-88.238628','40.104135','-88.241528','40.104135','-88.238628')\",\n",
       " \"INSERT INTO BlockLocation (blockID,topLeft_lat,topLeft_lon,topRight_lat,topRight_lon,bottomLeft_lat,bottomLeft_lon,bottomRight_lat,bottomRight_lon) VALUES('31','40.105416','-88.233536','40.105416','-88.23044300000001','40.104135','-88.233536','40.104135','-88.23044300000001')\",\n",
       " \"INSERT INTO BlockLocation (blockID,topLeft_lat,topLeft_lon,topRight_lat,topRight_lon,bottomLeft_lat,bottomLeft_lon,bottomRight_lat,bottomRight_lon) VALUES('32','40.105954','-88.221577','40.105954','-88.219316','40.100547','-88.22188299999999','40.100547','-88.219316')\",\n",
       " \"INSERT INTO BlockLocation (blockID,topLeft_lat,topLeft_lon,topRight_lat,topRight_lon,bottomLeft_lat,bottomLeft_lon,bottomRight_lat,bottomRight_lon) VALUES('33','40.104135','-88.241528','40.104135','-88.238628','40.102707','-88.241528','40.102707','-88.238628')\",\n",
       " \"INSERT INTO BlockLocation (blockID,topLeft_lat,topLeft_lon,topRight_lat,topRight_lon,bottomLeft_lat,bottomLeft_lon,bottomRight_lat,bottomRight_lon) VALUES('34','40.104135','-88.238628','40.104135','-88.233536','40.101499','-88.238628','40.101499','-88.233536')\",\n",
       " \"INSERT INTO BlockLocation (blockID,topLeft_lat,topLeft_lon,topRight_lat,topRight_lon,bottomLeft_lat,bottomLeft_lon,bottomRight_lat,bottomRight_lon) VALUES('35','40.104135','-88.233536','40.104135','-88.23044300000001','40.101499','-88.233536','40.101499','-88.23044300000001')\",\n",
       " \"INSERT INTO BlockLocation (blockID,topLeft_lat,topLeft_lon,topRight_lat,topRight_lon,bottomLeft_lat,bottomLeft_lon,bottomRight_lat,bottomRight_lon) VALUES('36','40.104135','-88.23044300000001','40.104135','-88.22188299999999','40.100547','-88.23044300000001','40.100547','-88.22188299999999')\",\n",
       " \"INSERT INTO BlockLocation (blockID,topLeft_lat,topLeft_lon,topRight_lat,topRight_lon,bottomLeft_lat,bottomLeft_lon,bottomRight_lat,bottomRight_lon) VALUES('37','40.102707','-88.241528','40.102707','-88.238628','40.098062','-88.241528','40.098062','-88.238628')\",\n",
       " \"INSERT INTO BlockLocation (blockID,topLeft_lat,topLeft_lon,topRight_lat,topRight_lon,bottomLeft_lat,bottomLeft_lon,bottomRight_lat,bottomRight_lon) VALUES('38','40.101499','-88.233536','40.101499','-88.23044300000001','40.100547','-88.233536','40.100547','-88.23044300000001')\",\n",
       " \"INSERT INTO BlockLocation (blockID,topLeft_lat,topLeft_lon,topRight_lat,topRight_lon,bottomLeft_lat,bottomLeft_lon,bottomRight_lat,bottomRight_lon) VALUES('39','40.101499','-88.238628','40.101499','-88.233536','40.098062','-88.238628','40.098062','-88.233536')\",\n",
       " \"INSERT INTO BlockLocation (blockID,topLeft_lat,topLeft_lon,topRight_lat,topRight_lon,bottomLeft_lat,bottomLeft_lon,bottomRight_lat,bottomRight_lon) VALUES('40','40.100547','-88.233536','40.100547','-88.222852','40.098062','-88.233536','40.098062','-88.222852')\",\n",
       " \"INSERT INTO BlockLocation (blockID,topLeft_lat,topLeft_lon,topRight_lat,topRight_lon,bottomLeft_lat,bottomLeft_lon,bottomRight_lat,bottomRight_lon) VALUES('41','40.100547','-88.222852','40.100547','-88.219316','40.098062','-88.222852','40.098062','-88.219316')\",\n",
       " \"INSERT INTO BlockLocation (blockID,topLeft_lat,topLeft_lon,topRight_lat,topRight_lon,bottomLeft_lat,bottomLeft_lon,bottomRight_lat,bottomRight_lon) VALUES('42','40.098062','-88.241528','40.098062','-88.238628','40.094497','-88.241528','40.094497','-88.238628')\",\n",
       " \"INSERT INTO BlockLocation (blockID,topLeft_lat,topLeft_lon,topRight_lat,topRight_lon,bottomLeft_lat,bottomLeft_lon,bottomRight_lat,bottomRight_lon) VALUES('43','40.098062','-88.238628','40.098062','-88.233536','40.094497','-88.238628','40.094497','-88.233536')\",\n",
       " \"INSERT INTO BlockLocation (blockID,topLeft_lat,topLeft_lon,topRight_lat,topRight_lon,bottomLeft_lat,bottomLeft_lon,bottomRight_lat,bottomRight_lon) VALUES('44','40.098062','-88.233536','40.098062','-88.22374599999999','40.094497','-88.233536','40.094497','-88.22374599999999')\",\n",
       " \"INSERT INTO BlockLocation (blockID,topLeft_lat,topLeft_lon,topRight_lat,topRight_lon,bottomLeft_lat,bottomLeft_lon,bottomRight_lat,bottomRight_lon) VALUES('45','40.098062','-88.22374599999999','40.098062','-88.219316','40.094497','-88.22374599999999','40.094497','-88.219316')\",\n",
       " \"INSERT INTO BlockLocation (blockID,topLeft_lat,topLeft_lon,topRight_lat,topRight_lon,bottomLeft_lat,bottomLeft_lon,bottomRight_lat,bottomRight_lon) VALUES('46','40.098062','-88.219316','40.098062','-88.209672','40.094497','-88.219316','40.094497','-88.209672')\",\n",
       " \"INSERT INTO BlockLocation (blockID,topLeft_lat,topLeft_lon,topRight_lat,topRight_lon,bottomLeft_lat,bottomLeft_lon,bottomRight_lat,bottomRight_lon) VALUES('47','40.110321','-88.228957','40.110321','-88.225699','40.104135','-88.228957','40.104135','-88.225699')\",\n",
       " \"INSERT INTO BlockLocation (blockID,topLeft_lat,topLeft_lon,topRight_lat,topRight_lon,bottomLeft_lat,bottomLeft_lon,bottomRight_lat,bottomRight_lon) VALUES('48','40.105416','-88.23044300000001','40.105416','-88.228957','40.104135','-88.23044300000001','40.104135','-88.228957')\",\n",
       " \"INSERT INTO BlockLocation (blockID,topLeft_lat,topLeft_lon,topRight_lat,topRight_lon,bottomLeft_lat,bottomLeft_lon,bottomRight_lat,bottomRight_lon) VALUES('49','40.105954','-88.225699','40.105954','-88.22405400000001','40.104135','-88.225699','40.104135','-88.22405400000001')\",\n",
       " \"INSERT INTO BlockLocation (blockID,topLeft_lat,topLeft_lon,topRight_lat,topRight_lon,bottomLeft_lat,bottomLeft_lon,bottomRight_lat,bottomRight_lon) VALUES('50','40.105954','-88.22405400000001','40.105954','-88.221577','40.104135','-88.22405400000001','40.104135','-88.22188299999999')\"]"
      ]
     },
     "execution_count": 69,
     "metadata": {},
     "output_type": "execute_result"
    }
   ],
   "source": [
    "csvName = r\"location.csv\"\n",
    "tableName = \"BlockLocation\"\n",
    "listOfInsertQueries = getListOfInsertQueries(csvName, tableName)\n",
    "listOfInsertQueries"
   ]
  },
  {
   "cell_type": "code",
   "execution_count": 70,
   "metadata": {},
   "outputs": [
    {
     "name": "stdout",
     "output_type": "stream",
     "text": [
      "Database Connected Successfully\n",
      "Query Successfully Executed\n",
      "Database Closed Successfully\n",
      "Database Connected Successfully\n",
      "Query Successfully Executed\n",
      "Database Closed Successfully\n",
      "Database Connected Successfully\n",
      "Query Successfully Executed\n",
      "Database Closed Successfully\n",
      "Database Connected Successfully\n",
      "Query Successfully Executed\n",
      "Database Closed Successfully\n",
      "Database Connected Successfully\n",
      "Query Successfully Executed\n",
      "Database Closed Successfully\n",
      "Database Connected Successfully\n",
      "Query Successfully Executed\n",
      "Database Closed Successfully\n",
      "Database Connected Successfully\n",
      "Query Successfully Executed\n",
      "Database Closed Successfully\n",
      "Database Connected Successfully\n",
      "Query Successfully Executed\n",
      "Database Closed Successfully\n",
      "Database Connected Successfully\n",
      "Query Successfully Executed\n",
      "Database Closed Successfully\n",
      "Database Connected Successfully\n",
      "Query Successfully Executed\n",
      "Database Closed Successfully\n",
      "Database Connected Successfully\n",
      "Query Successfully Executed\n",
      "Database Closed Successfully\n",
      "Database Connected Successfully\n",
      "Query Successfully Executed\n",
      "Database Closed Successfully\n",
      "Database Connected Successfully\n",
      "Query Successfully Executed\n",
      "Database Closed Successfully\n",
      "Database Connected Successfully\n",
      "Query Successfully Executed\n",
      "Database Closed Successfully\n",
      "Database Connected Successfully\n",
      "Query Successfully Executed\n",
      "Database Closed Successfully\n",
      "Database Connected Successfully\n",
      "Query Successfully Executed\n",
      "Database Closed Successfully\n",
      "Database Connected Successfully\n",
      "Query Successfully Executed\n",
      "Database Closed Successfully\n",
      "Database Connected Successfully\n",
      "Query Successfully Executed\n",
      "Database Closed Successfully\n",
      "Database Connected Successfully\n",
      "Query Successfully Executed\n",
      "Database Closed Successfully\n",
      "Database Connected Successfully\n",
      "Query Successfully Executed\n",
      "Database Closed Successfully\n",
      "Database Connected Successfully\n",
      "Query Successfully Executed\n",
      "Database Closed Successfully\n",
      "Database Connected Successfully\n",
      "Query Successfully Executed\n",
      "Database Closed Successfully\n",
      "Database Connected Successfully\n",
      "Query Successfully Executed\n",
      "Database Closed Successfully\n",
      "Database Connected Successfully\n",
      "Query Successfully Executed\n",
      "Database Closed Successfully\n",
      "Database Connected Successfully\n",
      "Query Successfully Executed\n",
      "Database Closed Successfully\n",
      "Database Connected Successfully\n",
      "Query Successfully Executed\n",
      "Database Closed Successfully\n",
      "Database Connected Successfully\n",
      "Query Successfully Executed\n",
      "Database Closed Successfully\n",
      "Database Connected Successfully\n",
      "Query Successfully Executed\n",
      "Database Closed Successfully\n",
      "Database Connected Successfully\n",
      "Query Successfully Executed\n",
      "Database Closed Successfully\n",
      "Database Connected Successfully\n",
      "Query Successfully Executed\n",
      "Database Closed Successfully\n",
      "Database Connected Successfully\n",
      "Query Successfully Executed\n",
      "Database Closed Successfully\n",
      "Database Connected Successfully\n",
      "Query Successfully Executed\n",
      "Database Closed Successfully\n",
      "Database Connected Successfully\n",
      "Query Successfully Executed\n",
      "Database Closed Successfully\n",
      "Database Connected Successfully\n",
      "Query Successfully Executed\n",
      "Database Closed Successfully\n",
      "Database Connected Successfully\n",
      "Query Successfully Executed\n",
      "Database Closed Successfully\n",
      "Database Connected Successfully\n",
      "Query Successfully Executed\n",
      "Database Closed Successfully\n",
      "Database Connected Successfully\n",
      "Query Successfully Executed\n",
      "Database Closed Successfully\n",
      "Database Connected Successfully\n",
      "Query Successfully Executed\n",
      "Database Closed Successfully\n",
      "Database Connected Successfully\n",
      "Query Successfully Executed\n",
      "Database Closed Successfully\n",
      "Database Connected Successfully\n",
      "Query Successfully Executed\n",
      "Database Closed Successfully\n",
      "Database Connected Successfully\n",
      "Query Successfully Executed\n",
      "Database Closed Successfully\n",
      "Database Connected Successfully\n",
      "Query Successfully Executed\n",
      "Database Closed Successfully\n",
      "Database Connected Successfully\n",
      "Query Successfully Executed\n",
      "Database Closed Successfully\n",
      "Database Connected Successfully\n",
      "Query Successfully Executed\n",
      "Database Closed Successfully\n",
      "Database Connected Successfully\n",
      "Query Successfully Executed\n",
      "Database Closed Successfully\n",
      "Database Connected Successfully\n",
      "Query Successfully Executed\n",
      "Database Closed Successfully\n",
      "Database Connected Successfully\n",
      "Query Successfully Executed\n",
      "Database Closed Successfully\n",
      "Database Connected Successfully\n",
      "Query Successfully Executed\n",
      "Database Closed Successfully\n",
      "Database Connected Successfully\n",
      "Query Successfully Executed\n",
      "Database Closed Successfully\n",
      "Database Connected Successfully\n",
      "Query Successfully Executed\n",
      "Database Closed Successfully\n"
     ]
    }
   ],
   "source": [
    "for sqlqueryForInsertIntoTable_BlockLocation in listOfInsertQueries:\n",
    "    executeSingleQuery(sqlqueryForInsertIntoTable_BlockLocation)"
   ]
  },
  {
   "cell_type": "code",
   "execution_count": 37,
   "metadata": {},
   "outputs": [
    {
     "name": "stdout",
     "output_type": "stream",
     "text": [
      "Database Connected Successfully\n",
      "Query Successfully Executed\n",
      "Database Closed Successfully\n"
     ]
    }
   ],
   "source": [
    "sqlqueryForInsertIntoTable_BlockLocation =   \"\"\"\n",
    "                                    INSERT INTO Crime (incidentID, reportedAt, occuredAt, deposition) \n",
    "                                    VALUES ('II1300026', '2013-1-1 1:39:00', '2013-1-1 1:39:00' ,'ARREST');\n",
    "                                    \"\"\"\n",
    "executeSingleQuery(sqlqueryForInsertIntoTable_BlockLocation)"
   ]
  },
  {
   "cell_type": "code",
   "execution_count": null,
   "metadata": {},
   "outputs": [],
   "source": []
  },
  {
   "cell_type": "markdown",
   "metadata": {},
   "source": [
    "## Insert into Crime Table"
   ]
  },
  {
   "cell_type": "code",
   "execution_count": 37,
   "metadata": {},
   "outputs": [
    {
     "name": "stdout",
     "output_type": "stream",
     "text": [
      "Database Connected Successfully\n",
      "Query Successfully Executed\n",
      "Database Closed Successfully\n"
     ]
    }
   ],
   "source": [
    "sqlqueryForInsertIntoTable_Crime =   \"\"\"\n",
    "                                    INSERT INTO Crime (incidentID, reportedAt, occuredAt, deposition) \n",
    "                                    VALUES ('II1300026', '2013-1-1 1:39:00', '2013-1-1 1:39:00' ,'ARREST');\n",
    "                                    \"\"\"\n",
    "executeSingleQuery(sqlqueryForInsertIntoTable_Crime)"
   ]
  },
  {
   "cell_type": "code",
   "execution_count": null,
   "metadata": {},
   "outputs": [],
   "source": []
  },
  {
   "cell_type": "code",
   "execution_count": null,
   "metadata": {},
   "outputs": [],
   "source": []
  },
  {
   "cell_type": "code",
   "execution_count": null,
   "metadata": {},
   "outputs": [],
   "source": []
  },
  {
   "cell_type": "code",
   "execution_count": null,
   "metadata": {},
   "outputs": [],
   "source": []
  },
  {
   "cell_type": "code",
   "execution_count": 17,
   "metadata": {},
   "outputs": [
    {
     "name": "stdout",
     "output_type": "stream",
     "text": [
      "Database Connected Successfully\n",
      "Data Inserted Successfully\n"
     ]
    }
   ],
   "source": [
    "try:\n",
    "    db = mdb.connect(DBHOST, DBUSER, DBPASS, DBNAME, charset='utf8', port=3308)\n",
    "    print(\"Database Connected Successfully\")\n",
    "\n",
    "    cur = db.cursor()\n",
    "    querysql = \"\"\"\n",
    "    INSERT INTO Crime (incidentID, reportedAt, occuredAt, deposition) \n",
    "    VALUES ('II1300026', '2013-1-1 1:39:00', '2013-1-1 1:39:00' ,'ARREST');\n",
    "    \"\"\"\n",
    "    cur.execute(querysql)\n",
    "    #commit changes in the database\n",
    "    db.commit()\n",
    "    print(\"Data Inserted Successfully\")\n",
    "    \n",
    "except mdb.Error as e:\n",
    "    print(e)\n",
    "    db.rollback()\n",
    "    #roolback if there is an error\n",
    "db.close()"
   ]
  },
  {
   "cell_type": "code",
   "execution_count": null,
   "metadata": {},
   "outputs": [],
   "source": []
  }
 ],
 "metadata": {
  "kernelspec": {
   "display_name": "Python 3",
   "language": "python",
   "name": "python3"
  },
  "language_info": {
   "codemirror_mode": {
    "name": "ipython",
    "version": 3
   },
   "file_extension": ".py",
   "mimetype": "text/x-python",
   "name": "python",
   "nbconvert_exporter": "python",
   "pygments_lexer": "ipython3",
   "version": "3.7.3"
  }
 },
 "nbformat": 4,
 "nbformat_minor": 2
}
