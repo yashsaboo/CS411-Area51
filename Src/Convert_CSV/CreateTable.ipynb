{
 "cells": [
  {
   "cell_type": "code",
   "execution_count": 54,
   "metadata": {},
   "outputs": [],
   "source": [
    "import MySQLdb as mdb"
   ]
  },
  {
   "cell_type": "code",
   "execution_count": 55,
   "metadata": {},
   "outputs": [],
   "source": [
    "DBNAME = \"dbtest\"\n",
    "DBHOST = \"localhost\"\n",
    "DBPASS = \"\"\n",
    "DBUSER = \"root\""
   ]
  },
  {
   "cell_type": "code",
   "execution_count": 56,
   "metadata": {},
   "outputs": [],
   "source": [
    "def connectToDatabase():\n",
    "    try:\n",
    "        db = mdb.connect(DBHOST, DBUSER, DBPASS, DBNAME, charset='utf8', port=3308)\n",
    "        print(\"Database Connected Successfully\")\n",
    "        return db\n",
    "    except mdb.Error as e:\n",
    "        print(e)\n",
    "        print(\"Database Not Connected Successfully\")\n",
    "        return None\n",
    "    \n",
    "def closeDatabase(db):\n",
    "    try:\n",
    "        db.close()\n",
    "        print(\"Database Closed Successfully\")\n",
    "    except mdb.Error as e:\n",
    "        print(e)\n",
    "        print(\"Database Not Closed Successfully\")"
   ]
  },
  {
   "cell_type": "code",
   "execution_count": 57,
   "metadata": {},
   "outputs": [],
   "source": [
    "def executeSingleQuery(sqlquery):\n",
    "    \n",
    "    db = connectToDatabase()\n",
    "    \n",
    "    try:\n",
    "        cur = db.cursor()\n",
    "\n",
    "        # execute query\n",
    "        cur.execute(sqlquery)\n",
    "        print(\"Query Successfully Executed\")\n",
    "        \n",
    "        db.commit()\n",
    "\n",
    "    except mdb.Error as e:\n",
    "        print(e)\n",
    "        print(\"Query Not Successfully Executed\" + sqlquery)\n",
    "        \n",
    "    closeDatabase(db)"
   ]
  },
  {
   "cell_type": "markdown",
   "metadata": {},
   "source": [
    "## Create BlockLocation Table"
   ]
  },
  {
   "cell_type": "code",
   "execution_count": 58,
   "metadata": {},
   "outputs": [
    {
     "name": "stdout",
     "output_type": "stream",
     "text": [
      "Database Connected Successfully\n",
      "Query Successfully Executed\n",
      "Database Closed Successfully\n"
     ]
    }
   ],
   "source": [
    "# we are droping the table if it already exists\n",
    "sqlqueryForDroppingTable_BlockLocation = \"DROP TABLE IF EXISTS BlockLocation\"\n",
    "executeSingleQuery(sqlqueryForDroppingTable_BlockLocation)"
   ]
  },
  {
   "cell_type": "code",
   "execution_count": 59,
   "metadata": {},
   "outputs": [
    {
     "name": "stdout",
     "output_type": "stream",
     "text": [
      "Database Connected Successfully\n",
      "Query Successfully Executed\n",
      "Database Closed Successfully\n"
     ]
    }
   ],
   "source": [
    "sqlqueryForCreatingTable_BlockLocation = \"\"\"\n",
    "                        CREATE TABLE BlockLocation\n",
    "                        (\n",
    "                         blockID int NOT NULL DEFAULT -1,\n",
    "                         topLeft_lat real,\n",
    "                         topLeft_lon real,\n",
    "                         topRight_lat real,\n",
    "                         topRight_lon real,\n",
    "                         bottomLeft_lat real,\n",
    "                         bottomLeft_lon real,\n",
    "                         bottomRight_lat real,\n",
    "                         bottomRight_lon real,\n",
    "                         PRIMARY KEY (blockID)\n",
    "                        );\n",
    "                        \"\"\"\n",
    "    \n",
    "executeSingleQuery(sqlqueryForCreatingTable_BlockLocation)"
   ]
  },
  {
   "cell_type": "markdown",
   "metadata": {},
   "source": [
    "## Create CrimeType Table"
   ]
  },
  {
   "cell_type": "code",
   "execution_count": 60,
   "metadata": {},
   "outputs": [
    {
     "name": "stdout",
     "output_type": "stream",
     "text": [
      "Database Connected Successfully\n",
      "Query Successfully Executed\n",
      "Database Closed Successfully\n"
     ]
    }
   ],
   "source": [
    "# we are droping the table if it already exists\n",
    "sqlqueryForDroppingTable_CrimeType = \"DROP TABLE IF EXISTS CrimeType\"\n",
    "executeSingleQuery(sqlqueryForDroppingTable_CrimeType)"
   ]
  },
  {
   "cell_type": "code",
   "execution_count": 61,
   "metadata": {},
   "outputs": [
    {
     "name": "stdout",
     "output_type": "stream",
     "text": [
      "Database Connected Successfully\n",
      "Query Successfully Executed\n",
      "Database Closed Successfully\n"
     ]
    }
   ],
   "source": [
    "sqlqueryForCreatingTable_CrimeType = \"\"\"\n",
    "                        CREATE TABLE CrimeType\n",
    "                        (\n",
    "                         crimeTypeID int NOT NULL,\n",
    "                         type varchar(255),\n",
    "                         PRIMARY KEY (crimeTypeID)\n",
    "                        );\n",
    "                        \"\"\"\n",
    "    \n",
    "executeSingleQuery(sqlqueryForCreatingTable_CrimeType)"
   ]
  },
  {
   "cell_type": "markdown",
   "metadata": {},
   "source": [
    "## Create Crime Table"
   ]
  },
  {
   "cell_type": "code",
   "execution_count": 62,
   "metadata": {},
   "outputs": [
    {
     "name": "stdout",
     "output_type": "stream",
     "text": [
      "Database Connected Successfully\n",
      "Query Successfully Executed\n",
      "Database Closed Successfully\n"
     ]
    }
   ],
   "source": [
    "# we are droping the table if it already exists\n",
    "sqlqueryForDroppingTable_Crime = \"DROP TABLE IF EXISTS Crime\"\n",
    "executeSingleQuery(sqlqueryForDroppingTable_Crime)"
   ]
  },
  {
   "cell_type": "code",
   "execution_count": 63,
   "metadata": {},
   "outputs": [
    {
     "name": "stdout",
     "output_type": "stream",
     "text": [
      "Database Connected Successfully\n",
      "Query Successfully Executed\n",
      "Database Closed Successfully\n"
     ]
    }
   ],
   "source": [
    "sqlqueryForCreatingTable_Crime = \"\"\"\n",
    "                        CREATE TABLE Crime\n",
    "                        (\n",
    "                         incidentID varchar(20) NOT NULL,\n",
    "                         reportedAt DateTime,\n",
    "                         occuredAt DateTime,\n",
    "                         disposition varchar(255),\n",
    "                         crimeTypeID int NOT NULL,\n",
    "                         PRIMARY KEY (incidentID),\n",
    "                         FOREIGN KEY (crimeTypeID) REFERENCES CrimeType(crimeTypeID) \n",
    "                             ON DELETE CASCADE\n",
    "                             ON UPDATE CASCADE\n",
    "                        ); \n",
    "                        \"\"\"\n",
    "    \n",
    "executeSingleQuery(sqlqueryForCreatingTable_Crime)"
   ]
  },
  {
   "cell_type": "markdown",
   "metadata": {},
   "source": [
    "## Create happensAt Table"
   ]
  },
  {
   "cell_type": "code",
   "execution_count": 64,
   "metadata": {},
   "outputs": [
    {
     "name": "stdout",
     "output_type": "stream",
     "text": [
      "Database Connected Successfully\n",
      "Query Successfully Executed\n",
      "Database Closed Successfully\n"
     ]
    }
   ],
   "source": [
    "# we are droping the table if it already exists\n",
    "sqlqueryForDroppingTable_happensAt = \"DROP TABLE IF EXISTS happensAt\"\n",
    "executeSingleQuery(sqlqueryForDroppingTable_happensAt)"
   ]
  },
  {
   "cell_type": "code",
   "execution_count": 65,
   "metadata": {},
   "outputs": [
    {
     "name": "stdout",
     "output_type": "stream",
     "text": [
      "Database Connected Successfully\n",
      "Query Successfully Executed\n",
      "Database Closed Successfully\n"
     ]
    }
   ],
   "source": [
    "sqlqueryForCreatingTable_happensAt = \"\"\"\n",
    "                        CREATE TABLE happensAt\n",
    "                        (\n",
    "                         incidentID varchar(20) NOT NULL,\n",
    "                         blockID int NOT NULL,\n",
    "                         genLocation varchar(255),\n",
    "                         FOREIGN KEY (incidentID) REFERENCES Crime(incidentID)\n",
    "                            ON DELETE CASCADE\n",
    "                            ON UPDATE CASCADE,\n",
    "                         FOREIGN KEY (blockID) REFERENCES BlockLocation(blockID)\n",
    "                            ON DELETE CASCADE\n",
    "                            ON UPDATE CASCADE,\n",
    "                         PRIMARY KEY (incidentID, blockID)\n",
    "                        );\n",
    "                        \"\"\"\n",
    "    \n",
    "executeSingleQuery(sqlqueryForCreatingTable_happensAt)"
   ]
  },
  {
   "cell_type": "code",
   "execution_count": null,
   "metadata": {},
   "outputs": [],
   "source": []
  },
  {
   "cell_type": "code",
   "execution_count": null,
   "metadata": {},
   "outputs": [],
   "source": []
  },
  {
   "cell_type": "code",
   "execution_count": null,
   "metadata": {},
   "outputs": [],
   "source": []
  },
  {
   "cell_type": "code",
   "execution_count": null,
   "metadata": {},
   "outputs": [],
   "source": []
  }
 ],
 "metadata": {
  "kernelspec": {
   "display_name": "Python 3",
   "language": "python",
   "name": "python3"
  },
  "language_info": {
   "codemirror_mode": {
    "name": "ipython",
    "version": 3
   },
   "file_extension": ".py",
   "mimetype": "text/x-python",
   "name": "python",
   "nbconvert_exporter": "python",
   "pygments_lexer": "ipython3",
   "version": "3.7.3"
  }
 },
 "nbformat": 4,
 "nbformat_minor": 2
}
