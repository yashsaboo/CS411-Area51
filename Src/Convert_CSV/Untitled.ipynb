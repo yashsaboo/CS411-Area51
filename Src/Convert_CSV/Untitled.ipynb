{
 "cells": [
  {
   "cell_type": "code",
   "execution_count": 1,
   "metadata": {},
   "outputs": [],
   "source": [
    "import MySQLdb as mdb"
   ]
  },
  {
   "cell_type": "code",
   "execution_count": 56,
   "metadata": {},
   "outputs": [
    {
     "data": {
      "text/plain": [
       "{'incidentID': 'II1300786',\n",
       " 'reportedAt': '2013-1-1 11:39:00',\n",
       " 'occuredAt': '2013-1-1 11:39:00',\n",
       " 'disposition': 'ARREST',\n",
       " 'crimeDescription': 'POSSESSION OF CANNABIS',\n",
       " 'genLocation': 'CIRCLE K'}"
      ]
     },
     "execution_count": 56,
     "metadata": {},
     "output_type": "execute_result"
    }
   ],
   "source": [
    "msg = {}\n",
    "msg[\"incidentID\"] = \"II1300786\"\n",
    "msg[\"reportedAt\"] = '2013-1-1 11:39:00'\n",
    "msg[\"occuredAt\"] = '2013-1-1 11:39:00'\n",
    "msg[\"disposition\"] = \"ARREST\"\n",
    "msg[\"crimeDescription\"] = \"POSSESSION OF CANNABIS\"\n",
    "msg[\"genLocation\"] = \"CIRCLE K\"\n",
    "msg"
   ]
  },
  {
   "cell_type": "code",
   "execution_count": 57,
   "metadata": {},
   "outputs": [
    {
     "data": {
      "text/plain": [
       "True"
      ]
     },
     "execution_count": 57,
     "metadata": {},
     "output_type": "execute_result"
    }
   ],
   "source": [
    "def checkDateAndTimeSanity(str):\n",
    "    #Check if both date and time are present\n",
    "    arr = str.split(\" \")\n",
    "    if(len(arr)!=2):\n",
    "        print(\"Hi\")\n",
    "        return False\n",
    "    \n",
    "    date = arr[0].split(\"-\")\n",
    "    time = arr[1].split(\":\")\n",
    "    \n",
    "    #Check if year has four numbers\n",
    "    if(len(date[0])!=4):\n",
    "        print(\"Hi2\")\n",
    "        return False\n",
    "    \n",
    "    #Check month\n",
    "    if (int(date[1])>12) or (int(date[1])<1):\n",
    "        return False\n",
    "    \n",
    "    #Check day\n",
    "    if (int(date[2])>31) or (int(date[2])<1):\n",
    "        return False\n",
    "    \n",
    "    #Check hour\n",
    "    if (int(time[0])>24) or (int(time[0])<0):\n",
    "        return False\n",
    "    \n",
    "    #Check min\n",
    "    if (int(time[1])>60) or (int(time[1])<0):\n",
    "        return False\n",
    "    \n",
    "    #Check sec\n",
    "    if (int(time[2])>60) or (int(time[2])<0):\n",
    "        return False\n",
    "    \n",
    "    return True\n",
    "    \n",
    "\n",
    "def checkSanity(msg):\n",
    "    \n",
    "    #Check if string doesn't have ' and .\n",
    "    for key in msg:\n",
    "        msg[key] = msg[key].replace(\"\\'\", \"\").replace(\".\", \"\")\n",
    "    \n",
    "    #Date and Time are in proper format\n",
    "    if (not checkDateAndTimeSanity(msg[\"reportedAt\"])):\n",
    "        print(\"reportedAt\")\n",
    "        return False\n",
    "    \n",
    "    if (not checkDateAndTimeSanity(msg[\"occuredAt\"])):\n",
    "        print(\"occuredAt\")\n",
    "        return False\n",
    "    \n",
    "    return True\n",
    "\n",
    "checkSanity(msg)"
   ]
  },
  {
   "cell_type": "markdown",
   "metadata": {},
   "source": [
    "1. Check for sanity\n",
    "2. Convert the masg into three csv columns\n",
    "    i. Find blockid\n",
    "    ii. find crimetypeid\n",
    "        a. Check if this crime is present or not. If not present, then add it to crimetype (first insert)\n",
    "    iii. Call insert on crime\n",
    "    iv. Call insert on happensAt"
   ]
  },
  {
   "cell_type": "code",
   "execution_count": null,
   "metadata": {},
   "outputs": [],
   "source": []
  }
 ],
 "metadata": {
  "kernelspec": {
   "display_name": "Python 3",
   "language": "python",
   "name": "python3"
  },
  "language_info": {
   "codemirror_mode": {
    "name": "ipython",
    "version": 3
   },
   "file_extension": ".py",
   "mimetype": "text/x-python",
   "name": "python",
   "nbconvert_exporter": "python",
   "pygments_lexer": "ipython3",
   "version": "3.7.3"
  }
 },
 "nbformat": 4,
 "nbformat_minor": 2
}
