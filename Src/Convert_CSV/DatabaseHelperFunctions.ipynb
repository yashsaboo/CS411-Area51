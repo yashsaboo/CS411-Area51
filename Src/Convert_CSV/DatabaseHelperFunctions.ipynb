{
 "cells": [
  {
   "cell_type": "code",
   "execution_count": 15,
   "metadata": {},
   "outputs": [],
   "source": [
    "import MySQLdb as mdb"
   ]
  },
  {
   "cell_type": "code",
   "execution_count": 16,
   "metadata": {},
   "outputs": [],
   "source": [
    "DBNAME = \"dbtest\"\n",
    "DBHOST = \"localhost\"\n",
    "DBPASS = \"\"\n",
    "DBUSER = \"root\""
   ]
  },
  {
   "cell_type": "code",
   "execution_count": 17,
   "metadata": {},
   "outputs": [],
   "source": [
    "def connectToDatabase():\n",
    "    try:\n",
    "        db = mdb.connect(DBHOST, DBUSER, DBPASS, DBNAME, charset='utf8', port=3308)\n",
    "        print(\"Database Connected Successfully\")\n",
    "        return db\n",
    "    except mdb.Error as e:\n",
    "        print(e)\n",
    "        print(\"Database Not Connected Successfully\")\n",
    "        return None\n",
    "    \n",
    "def closeDatabase(db):\n",
    "    try:\n",
    "        db.close()\n",
    "        print(\"Database Closed Successfully\")\n",
    "    except mdb.Error as e:\n",
    "        print(e)\n",
    "        print(\"Database Not Closed Successfully\")"
   ]
  },
  {
   "cell_type": "code",
   "execution_count": 21,
   "metadata": {},
   "outputs": [],
   "source": [
    "def executeSingleQuery(sqlquery):\n",
    "    \n",
    "    db = connectToDatabase()\n",
    "    \n",
    "    try:\n",
    "        cur = db.cursor()\n",
    "\n",
    "        # execute query\n",
    "        cur.execute(sqlquery)\n",
    "        print(\"Query Successfully Executed\")\n",
    "        \n",
    "        db.commit()\n",
    "\n",
    "    except mdb.Error as e:\n",
    "        print(e)\n",
    "        print(\"Query Not Successfully Executed\" + sqlquery)\n",
    "        \n",
    "    closeDatabase(db)\n",
    "    \n",
    "def executeSingleQueryWhichReturns(sqlquery):\n",
    "    \n",
    "    db = connectToDatabase()\n",
    "    \n",
    "    try:\n",
    "        cur = db.cursor()\n",
    "\n",
    "        # execute query\n",
    "        number_of_rows = cur.execute(sqlquery)\n",
    "        result = cur.fetchall()\n",
    "        print(\"Query Successfully Executed and Fetched\")\n",
    "        \n",
    "        db.commit()\n",
    "\n",
    "    except mdb.Error as e:\n",
    "        print(e)\n",
    "        print(\"Query Not Successfully Executed and Fetched\" + sqlquery)\n",
    "        \n",
    "    closeDatabase(db)\n",
    "    \n",
    "    return result"
   ]
  },
  {
   "cell_type": "code",
   "execution_count": null,
   "metadata": {},
   "outputs": [],
   "source": []
  }
 ],
 "metadata": {
  "kernelspec": {
   "display_name": "Python 3",
   "language": "python",
   "name": "python3"
  },
  "language_info": {
   "codemirror_mode": {
    "name": "ipython",
    "version": 3
   },
   "file_extension": ".py",
   "mimetype": "text/x-python",
   "name": "python",
   "nbconvert_exporter": "python",
   "pygments_lexer": "ipython3",
   "version": "3.7.3"
  }
 },
 "nbformat": 4,
 "nbformat_minor": 2
}
